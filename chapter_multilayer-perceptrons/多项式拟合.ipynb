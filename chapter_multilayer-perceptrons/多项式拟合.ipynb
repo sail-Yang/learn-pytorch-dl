{
 "cells": [
  {
   "cell_type": "markdown",
   "metadata": {},
   "source": [
    "### 生成数据集\n",
    "\n",
    "给定$x$，我们将[**使用以下三阶多项式来生成训练和测试数据的标签：**]\n",
    "\n",
    "(**$$y = 5 + 1.2x - 3.4\\frac{x^2}{2!} + 5.6 \\frac{x^3}{3!} + \\epsilon \\text{ where }\n",
    "\\epsilon \\sim \\mathcal{N}(0, 0.1^2).$$**)\n",
    "\n",
    "噪声项$\\epsilon$服从均值为0且标准差为0.1的正态分布。\n",
    "在优化的过程中，我们通常希望避免非常大的梯度值或损失值。\n",
    "这就是我们将特征从$x^i$调整为$\\frac{x^i}{i!}$的原因，\n",
    "这样可以避免很大的$i$带来的特别大的指数值。\n",
    "我们将为训练集和测试集各生成100个样本。\n"
   ]
  },
  {
   "cell_type": "code",
   "execution_count": 1,
   "metadata": {},
   "outputs": [],
   "source": [
    "import math\n",
    "import numpy as np\n",
    "import torch\n",
    "from torch import nn\n",
    "from torch.utils import data\n",
    "from IPython import display\n",
    "import matplotlib.pyplot as plt\n",
    "torch.cuda.set_device(1)"
   ]
  },
  {
   "cell_type": "markdown",
   "metadata": {},
   "source": [
    "# 生成数据集"
   ]
  },
  {
   "cell_type": "code",
   "execution_count": 2,
   "metadata": {},
   "outputs": [],
   "source": [
    "max_degree = 20\n",
    "n_train, n_test = 1000, 1000\n",
    "true_w = np.zeros(max_degree)\n",
    "true_w[0:6] = np.array([5,1.2,-3.4,5.6,5.8,-3.7])\n",
    "\n",
    "features = np.random.normal(size=(n_train+n_test, 1))\n",
    "np.random.shuffle(features)\n",
    "poly_features = np.power(features, np.arange(max_degree).reshape(1,-1))\n",
    "for i in range(max_degree):\n",
    "  poly_features[:,i] /= math.gamma(i+1) # gamma(n) = (n-1)!\n",
    "# labels的维度(n_train+n_test,)\n",
    "labels = np.dot(poly_features, true_w)\n",
    "labels += np.random.normal(scale=0.1, size=labels.shape)\n",
    "# print(labels)"
   ]
  },
  {
   "cell_type": "code",
   "execution_count": 3,
   "metadata": {},
   "outputs": [],
   "source": [
    "true_w, features, poly_features, labels = [torch.tensor(x, dtype=torch.float32) for x in [true_w, features, poly_features, labels]]"
   ]
  },
  {
   "cell_type": "code",
   "execution_count": 4,
   "metadata": {},
   "outputs": [
    {
     "data": {
      "text/plain": [
       "(tensor([[-1.3119],\n",
       "         [ 0.9775]]),\n",
       " tensor([[ 1.0000e+00, -1.3119e+00,  8.6057e-01, -3.7633e-01,  1.2343e-01,\n",
       "          -3.2386e-02,  7.0813e-03, -1.3271e-03,  2.1764e-04, -3.1725e-05,\n",
       "           4.1621e-06, -4.9639e-07,  5.4269e-08, -5.4766e-09,  5.1321e-10,\n",
       "          -4.4886e-11,  3.6804e-12, -2.8402e-13,  2.0701e-14, -1.4294e-15],\n",
       "         [ 1.0000e+00,  9.7755e-01,  4.7780e-01,  1.5569e-01,  3.8049e-02,\n",
       "           7.4390e-03,  1.2120e-03,  1.6926e-04,  2.0682e-05,  2.2464e-06,\n",
       "           2.1960e-07,  1.9515e-08,  1.5898e-09,  1.1954e-10,  8.3471e-12,\n",
       "           5.4398e-13,  3.3236e-14,  1.9111e-15,  1.0379e-16,  5.3401e-18]]),\n",
       " tensor([-0.8464,  5.5719]))"
      ]
     },
     "execution_count": 4,
     "metadata": {},
     "output_type": "execute_result"
    }
   ],
   "source": [
    "features[:2], poly_features[:2, :], labels[:2]"
   ]
  },
  {
   "cell_type": "code",
   "execution_count": 5,
   "metadata": {},
   "outputs": [],
   "source": [
    "def load_array(data_arrays, batch_size, is_train=True):\n",
    "    \"\"\"构造一个PyTorch数据迭代器\"\"\"\n",
    "    dataset = data.TensorDataset(*data_arrays)\n",
    "    return data.DataLoader(dataset, batch_size, shuffle=is_train)"
   ]
  },
  {
   "cell_type": "markdown",
   "metadata": {},
   "source": [
    "# 训练"
   ]
  },
  {
   "cell_type": "code",
   "execution_count": 6,
   "metadata": {},
   "outputs": [],
   "source": [
    "def accuracy(y_hat, y):\n",
    "    \"\"\"计算预测正确的数量\"\"\"\n",
    "    if len(y_hat.shape) > 1 and y_hat.shape[1] > 1:\n",
    "        y_hat = y_hat.argmax(axis=1)\n",
    "    cmp = y_hat.type(y.dtype) == y\n",
    "    return float(cmp.type(y.dtype).sum())\n",
    "\n",
    "class Accumulator:\n",
    "    \"\"\"在n个变量上累加\"\"\"\n",
    "    def __init__(self, n):\n",
    "        self.data = [0.0] * n\n",
    "\n",
    "    def add(self,*args):\n",
    "        self.data = [a + float(b) for a,b in zip(self.data, args)]\n",
    "\n",
    "    def reset(self):\n",
    "        self.data = [0.0] * len(self.data)\n",
    "\n",
    "    def __getitem__(self, idx):\n",
    "        return self.data[idx]\n",
    "\n",
    "def evaluate_accuracy(net, data_iter):\n",
    "    \"\"\"计算在指定数据集上模型的精度\"\"\"\n",
    "    if isinstance(net, torch.nn.Module):\n",
    "        net.eval() # 将模型设置为评估模式\n",
    "    metric = Accumulator(2) #正确预测数，预测总数\n",
    "    with torch.no_grad():\n",
    "        for X,y in data_iter:\n",
    "            metric.add(accuracy(net(X),y),y.numel())\n",
    "    return metric[0] / metric[1]"
   ]
  },
  {
   "cell_type": "code",
   "execution_count": 7,
   "metadata": {},
   "outputs": [],
   "source": [
    "def evaluate_loss(net, data_iter, loss):\n",
    "  \"\"\"评估给定数据集上模型的损失\"\"\"\n",
    "  metric = Accumulator(2) # 损失的总和、样本数量\n",
    "  for X, y in data_iter:\n",
    "    out = net(X)\n",
    "    y = y.reshape(out.shape)\n",
    "    l = loss(out, y)\n",
    "    metric.add(l.sum(), l.numel())\n",
    "  return metric[0] / metric[1]"
   ]
  },
  {
   "cell_type": "code",
   "execution_count": 8,
   "metadata": {},
   "outputs": [],
   "source": [
    "class Animator:\n",
    "  \"\"\"在动画中绘制数据\"\"\"\n",
    "  def __init__(self, xlabel=None, ylabel=None, legend=None, xlim=None,\n",
    "               ylim=None, xscale='linear',yscale='linear',\n",
    "               fmts=('-','m--','g-','r:'),nrows=1,ncols=1,\n",
    "               figsize=(3.5,2.5)):\n",
    "    if legend is None:\n",
    "      legend = []\n",
    "    # d2l.use_svg_display()\n",
    "    self.fig, self.axes = plt.subplots(nrows, ncols, figsize=figsize)\n",
    "    if nrows * ncols == 1:\n",
    "      self.axes = [self.axes, ]\n",
    "    self.X, self.Y, self.fmts = None, None, fmts\n",
    "  \n",
    "  def add(self, x,y):\n",
    "    #向图表添加多个数据点\n",
    "    if not hasattr(y,\"__len__\"):\n",
    "      y = [y]\n",
    "    n = len(y)\n",
    "    if not hasattr(x,\"__len__\"):\n",
    "      x = [x] * n\n",
    "    if not self.X:\n",
    "      self.X = [[] for _ in range(n)]\n",
    "    if not self.Y:\n",
    "      self.Y = [[] for _ in range(n)]\n",
    "    for i, (a,b) in enumerate(zip(x,y)):\n",
    "      if a is not None and b is not None:\n",
    "        self.X[i].append(a)\n",
    "        self.Y[i].append(b)\n",
    "    self.axes[0].cla()\n",
    "    for x,y,fmt in zip(self.X,self.Y,self.fmts):\n",
    "      self.axes[0].plot(x,y,fmt)\n",
    "    display.display(self.fig)\n",
    "    display.clear_output(wait=True)"
   ]
  },
  {
   "cell_type": "code",
   "execution_count": 9,
   "metadata": {},
   "outputs": [],
   "source": [
    "def train_epoch(net, train_iter, loss ,updater):\n",
    "    \"\"\"训练模型一个迭代周期\"\"\"\n",
    "    # 将模型设置为训练模式(计算梯度)\n",
    "    if isinstance(net, torch.nn.Module):\n",
    "        net.train()\n",
    "    # 训练损失总和、训练准确度总和、样本数\n",
    "    metric = Accumulator(3)\n",
    "    for X,y in train_iter:\n",
    "        y_hat = net(X)\n",
    "        l = loss(y_hat, y)\n",
    "        if isinstance(updater, torch.optim.Optimizer):\n",
    "            # 使用PyTorch内置的优化器和损失函数\n",
    "            updater.zero_grad()\n",
    "            l.mean().backward()\n",
    "            updater.step()\n",
    "        else:\n",
    "            # 使用定制的优化器和损失函数\n",
    "            l.sum().backward()\n",
    "            updater(X.shape[0])\n",
    "        metric.add(float(l.sum()),accuracy(y_hat,y),y.numel())\n",
    "    # 返回训练损失和训练精度\n",
    "    return metric[0] / metric[2], metric[1]/metric[2]"
   ]
  },
  {
   "cell_type": "code",
   "execution_count": 10,
   "metadata": {},
   "outputs": [],
   "source": [
    "def train(train_features, test_features, train_labels, test_labels, num_epochs=400):\n",
    "  loss = nn.MSELoss(reduction='none')\n",
    "  input_shape = train_features.shape[-1]\n",
    "  net = nn.Sequential(nn.Linear(input_shape,1,bias=False))\n",
    "  batch_size = min(10,train_labels.shape[0])\n",
    "  train_iter = load_array((train_features, train_labels.reshape(-1,1)), batch_size)\n",
    "  test_iter = load_array((test_features, test_labels.reshape(-1,1)), batch_size, is_train=False)\n",
    "  trainer = torch.optim.SGD(net.parameters(), lr=0.01)\n",
    "  animator = Animator(xlabel='epoch',ylabel='loss',yscale='log',xlim=[1,num_epochs],ylim=[1e-3,1e2],legend=['train','test'])\n",
    "  for epoch in range(num_epochs):\n",
    "    train_epoch(net, train_iter, loss, trainer)\n",
    "    if epoch == 0 or (epoch+1)  % 20 == 0:\n",
    "      animator.add(epoch+1,(evaluate_loss(net,train_iter,loss),evaluate_loss(net,test_iter,loss)))\n",
    "  print(\"weight:\", net[0].weight.data.numpy())"
   ]
  },
  {
   "cell_type": "code",
   "execution_count": 11,
   "metadata": {},
   "outputs": [],
   "source": [
    "# 正常情况\n",
    "# train(poly_features[:n_train,:4], poly_features[n_train:, :4],\n",
    "#       labels[:n_train], labels[n_train:])"
   ]
  },
  {
   "cell_type": "code",
   "execution_count": 12,
   "metadata": {},
   "outputs": [],
   "source": [
    "# 欠拟合\n",
    "# train(poly_features[:n_train,:2], poly_features[n_train:, :2],\n",
    "#       labels[:n_train], labels[n_train:])"
   ]
  },
  {
   "cell_type": "code",
   "execution_count": 13,
   "metadata": {},
   "outputs": [
    {
     "name": "stdout",
     "output_type": "stream",
     "text": [
      "weight: [[ 4.992603    1.1992589  -3.3785744   5.570983    5.7029943  -3.4132228\n",
      "   0.37310886 -1.2262203  -0.17919126 -0.03500626  0.15904509  0.02056182\n",
      "   0.19512069 -0.05585922  0.1224516  -0.02757542  0.20561147  0.11027409\n",
      "   0.10102785 -0.04503408]]\n"
     ]
    },
    {
     "data": {
      "image/png": "[encoded data removed]",
      "text/plain": [
       "<Figure size 350x250 with 1 Axes>"
      ]
     },
     "metadata": {},
     "output_type": "display_data"
    }
   ],
   "source": [
    "# 过拟合\n",
    "train(poly_features[:n_train,:], poly_features[n_train:, :],\n",
    "      labels[:n_train], labels[n_train:],num_epochs=5000)"
   ]
  }
 ],
 "metadata": {
  "kernelspec": {
   "display_name": "pytorch3",
   "language": "python",
   "name": "pytorch"
  },
  "language_info": {
   "codemirror_mode": {
    "name": "ipython",
    "version": 3
   },
   "file_extension": ".py",
   "mimetype": "text/x-python",
   "name": "python",
   "nbconvert_exporter": "python",
   "pygments_lexer": "ipython3",
   "version": "3.9.19"
  }
 },
 "nbformat": 4,
 "nbformat_minor": 2
}
