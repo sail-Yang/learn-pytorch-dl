{
 "cells": [
  {
   "cell_type": "code",
   "execution_count": 18,
   "metadata": {},
   "outputs": [],
   "source": [
    "import math\n",
    "import numpy as np\n",
    "import torch\n",
    "from torch import nn\n",
    "from torch.utils import data\n",
    "from IPython import display\n",
    "import matplotlib.pyplot as plt\n",
    "torch.cuda.set_device(1)"
   ]
  },
  {
   "cell_type": "code",
   "execution_count": 19,
   "metadata": {},
   "outputs": [],
   "source": [
    "# 构造一个数据集\n",
    "def synthetic_data(w,b,num_examples):\n",
    "    \"\"\"生成y = Xw + b + 噪声\"\"\"\n",
    "    # 均值为0，标准差为1，生成正态分布的随机样本\n",
    "    X = torch.normal(0,1,(num_examples,len(w)))\n",
    "    y = torch.matmul(X,w) + b\n",
    "    y += torch.normal(0,0.01,y.shape)\n",
    "    return X, y.reshape((-1,1))"
   ]
  },
  {
   "cell_type": "code",
   "execution_count": 20,
   "metadata": {},
   "outputs": [],
   "source": [
    "def load_array(data_arrays, batch_size, is_train=True):\n",
    "    \"\"\"构造一个PyTorch数据迭代器\"\"\"\n",
    "    dataset = data.TensorDataset(*data_arrays)\n",
    "    return data.DataLoader(dataset, batch_size, shuffle=is_train)"
   ]
  },
  {
   "cell_type": "code",
   "execution_count": 21,
   "metadata": {},
   "outputs": [],
   "source": [
    "def accuracy(y_hat, y):\n",
    "    \"\"\"计算预测正确的数量\"\"\"\n",
    "    if len(y_hat.shape) > 1 and y_hat.shape[1] > 1:\n",
    "        y_hat = y_hat.argmax(axis=1)\n",
    "    cmp = y_hat.type(y.dtype) == y\n",
    "    return float(cmp.type(y.dtype).sum())\n",
    "\n",
    "class Accumulator:\n",
    "    \"\"\"在n个变量上累加\"\"\"\n",
    "    def __init__(self, n):\n",
    "        self.data = [0.0] * n\n",
    "\n",
    "    def add(self,*args):\n",
    "        self.data = [a + float(b) for a,b in zip(self.data, args)]\n",
    "\n",
    "    def reset(self):\n",
    "        self.data = [0.0] * len(self.data)\n",
    "\n",
    "    def __getitem__(self, idx):\n",
    "        return self.data[idx]\n",
    "\n",
    "def evaluate_accuracy(net, data_iter):\n",
    "    \"\"\"计算在指定数据集上模型的精度\"\"\"\n",
    "    if isinstance(net, torch.nn.Module):\n",
    "        net.eval() # 将模型设置为评估模式\n",
    "    metric = Accumulator(2) #正确预测数，预测总数\n",
    "    with torch.no_grad():\n",
    "        for X,y in data_iter:\n",
    "            metric.add(accuracy(net(X),y),y.numel())\n",
    "    return metric[0] / metric[1]"
   ]
  },
  {
   "cell_type": "code",
   "execution_count": 22,
   "metadata": {},
   "outputs": [],
   "source": [
    "class Animator:\n",
    "  \"\"\"在动画中绘制数据\"\"\"\n",
    "  def __init__(self, xlabel=None, ylabel=None, legend=None, xlim=None,\n",
    "               ylim=None, xscale='linear',yscale='linear',\n",
    "               fmts=('-','m--','g-','r:'),nrows=1,ncols=1,\n",
    "               figsize=(3.5,2.5)):\n",
    "    if legend is None:\n",
    "      legend = []\n",
    "    # d2l.use_svg_display()\n",
    "    self.fig, self.axes = plt.subplots(nrows, ncols, figsize=figsize)\n",
    "    if nrows * ncols == 1:\n",
    "      self.axes = [self.axes, ]\n",
    "    self.X, self.Y, self.fmts = None, None, fmts\n",
    "  \n",
    "  def add(self, x,y):\n",
    "    #向图表添加多个数据点\n",
    "    if not hasattr(y,\"__len__\"):\n",
    "      y = [y]\n",
    "    n = len(y)\n",
    "    if not hasattr(x,\"__len__\"):\n",
    "      x = [x] * n\n",
    "    if not self.X:\n",
    "      self.X = [[] for _ in range(n)]\n",
    "    if not self.Y:\n",
    "      self.Y = [[] for _ in range(n)]\n",
    "    for i, (a,b) in enumerate(zip(x,y)):\n",
    "      if a is not None and b is not None:\n",
    "        self.X[i].append(a)\n",
    "        self.Y[i].append(b)\n",
    "    self.axes[0].cla()\n",
    "    for x,y,fmt in zip(self.X,self.Y,self.fmts):\n",
    "      self.axes[0].plot(x,y,fmt)\n",
    "    display.display(self.fig)\n",
    "    display.clear_output(wait=True)"
   ]
  },
  {
   "cell_type": "code",
   "execution_count": 23,
   "metadata": {},
   "outputs": [],
   "source": [
    "n_train, n_test, num_inputs, batch_size = 20, 100, 200 , 5\n",
    "true_w, true_b = torch.ones((num_inputs, 1)) * 0.01, 0.05\n",
    "train_data = synthetic_data(true_w, true_b, n_train)\n",
    "train_iter = load_array(train_data, batch_size)\n",
    "test_data = synthetic_data(true_w, true_b, n_test)\n",
    "test_iter = load_array(test_data, batch_size, is_train=False)"
   ]
  },
  {
   "cell_type": "code",
   "execution_count": 24,
   "metadata": {},
   "outputs": [],
   "source": [
    "def init_params():\n",
    "  w = torch.normal(0,1,size=(num_inputs,1), requires_grad=True)\n",
    "  b = torch.zeros(1, requires_grad=True)\n",
    "  return [w,b]"
   ]
  },
  {
   "cell_type": "code",
   "execution_count": 25,
   "metadata": {},
   "outputs": [],
   "source": [
    "def l2_penalty(w):\n",
    "  return torch.sum(w.pow(2)) / 2"
   ]
  },
  {
   "cell_type": "code",
   "execution_count": 26,
   "metadata": {},
   "outputs": [],
   "source": [
    "# 定义模型\n",
    "def linreg(X,w,b):\n",
    "    \"\"\"线性回归模型\"\"\"\n",
    "    return torch.matmul(X,w)+b\n",
    "  \n",
    "def squared_loss(y_hat, y):\n",
    "    \"\"\"均方损失\"\"\"\n",
    "    return (y_hat - y.reshape(y_hat.shape)) ** 2 / 2\n",
    "# 优化算法\n",
    "def sgd(params, lr, batch_size):\n",
    "    \"\"\"小批量随机梯度下降\"\"\"\n",
    "    with torch.no_grad(): # 不在计算梯度的上下文中进行，不会进行反向传播\n",
    "        for param in params:\n",
    "            param -= lr * param.grad / batch_size\n",
    "            param.grad.zero_() # 梯度清0，防止累加\n",
    "def evaluate_loss(net, data_iter, loss):\n",
    "  \"\"\"评估给定数据集上模型的损失\"\"\"\n",
    "  metric = Accumulator(2) # 损失的总和、样本数量\n",
    "  for X, y in data_iter:\n",
    "    out = net(X)\n",
    "    y = y.reshape(out.shape)\n",
    "    l = loss(out, y)\n",
    "    metric.add(l.sum(), l.numel())\n",
    "  return metric[0] / metric[1]"
   ]
  },
  {
   "cell_type": "code",
   "execution_count": 27,
   "metadata": {},
   "outputs": [],
   "source": [
    "def train(lambd):\n",
    "  w, b = init_params()\n",
    "  net ,loss = lambda X: linreg(X,w,b), squared_loss\n",
    "  num_epochs, lr = 100, 0.003\n",
    "  animator = Animator(xlabel='epochs', ylabel='loss', yscale='log', xlim=[5,num_epochs], legend=['train', 'test'])\n",
    "  \n",
    "  for epoch in range(num_epochs):\n",
    "    for X,y in train_iter:\n",
    "      #增加L2惩罚项\n",
    "      l = loss(net(X),y) + lambd * l2_penalty(w)\n",
    "      l.sum().backward()\n",
    "      sgd([w,b], lr, batch_size)\n",
    "    if(epoch+1) % 5 == 0:\n",
    "      animator.add(epoch+1, (evaluate_loss(net, train_iter, loss), evaluate_loss(net, test_iter, loss)))\n",
    "  print(\"w的L2范数是：\",torch.norm(w).item())"
   ]
  },
  {
   "cell_type": "code",
   "execution_count": 28,
   "metadata": {},
   "outputs": [],
   "source": [
    "# train(lambd=0)"
   ]
  },
  {
   "cell_type": "code",
   "execution_count": 29,
   "metadata": {},
   "outputs": [],
   "source": [
    "# train(lambd=3)"
   ]
  },
  {
   "cell_type": "markdown",
   "metadata": {},
   "source": [
    "# 简洁实现"
   ]
  },
  {
   "cell_type": "code",
   "execution_count": 30,
   "metadata": {},
   "outputs": [],
   "source": [
    "def train_concise(wd):\n",
    "  net = nn.Sequential(nn.Linear(num_inputs, 1))\n",
    "  for param in net.parameters():\n",
    "    param.data.normal_()\n",
    "  loss = nn.MSELoss(reduction='none')\n",
    "  num_epochs, lr = 100, 0.003\n",
    "  #偏执参数没有衰减\n",
    "  trainer = torch.optim.SGD([\n",
    "    {\"params\": net[0].weight, 'weight_decay': wd},\n",
    "    {\"params\": net[0].bias}\n",
    "  ], lr=lr)\n",
    "  animator = Animator(xlabel='epochs', ylabel='loss', yscale='log', xlim=[5,num_epochs], legend=['train', 'test'])\n",
    "  \n",
    "  for epoch in range(num_epochs):\n",
    "    for X,y in train_iter:\n",
    "      trainer.zero_grad()\n",
    "      l = loss(net(X), y)\n",
    "      l.mean().backward()\n",
    "      trainer.step()\n",
    "    \n",
    "    if(epoch + 1) % 5 == 0:\n",
    "      animator.add(epoch+1, (evaluate_loss(net, train_iter, loss), evaluate_loss(net, test_iter, loss)))\n",
    "  print(\"W的L2范数\", net[0].weight.norm().item())"
   ]
  },
  {
   "cell_type": "code",
   "execution_count": 31,
   "metadata": {},
   "outputs": [
    {
     "name": "stdout",
     "output_type": "stream",
     "text": [
      "W的L2范数 14.695989608764648\n"
     ]
    },
    {
     "data": {
      "image/png": "[encoded data removed]",
      "text/plain": [
       "<Figure size 350x250 with 1 Axes>"
      ]
     },
     "metadata": {},
     "output_type": "display_data"
    }
   ],
   "source": [
    "train_concise(0)"
   ]
  },
  {
   "cell_type": "code",
   "execution_count": 42,
   "metadata": {},
   "outputs": [
    {
     "name": "stdout",
     "output_type": "stream",
     "text": [
      "W的L2范数 0.143662691116333\n"
     ]
    },
    {
     "data": {
      "image/png": "[encoded data removed]",
      "text/plain": [
       "<Figure size 350x250 with 1 Axes>"
      ]
     },
     "metadata": {},
     "output_type": "display_data"
    }
   ],
   "source": [
    "train_concise(4)"
   ]
  }
 ],
 "metadata": {
  "kernelspec": {
   "display_name": "pytorch3",
   "language": "python",
   "name": "pytorch"
  },
  "language_info": {
   "codemirror_mode": {
    "name": "ipython",
    "version": 3
   },
   "file_extension": ".py",
   "mimetype": "text/x-python",
   "name": "python",
   "nbconvert_exporter": "python",
   "pygments_lexer": "ipython3",
   "version": "3.9.19"
  }
 },
 "nbformat": 4,
 "nbformat_minor": 2
}
