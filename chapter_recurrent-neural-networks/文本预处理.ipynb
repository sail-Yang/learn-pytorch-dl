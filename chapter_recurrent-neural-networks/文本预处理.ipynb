{
 "cells": [
  {
   "cell_type": "code",
   "execution_count": 21,
   "metadata": {},
   "outputs": [],
   "source": [
    "import collections\n",
    "import hashlib\n",
    "import requests\n",
    "import re\n",
    "from dltool import dataprocess, train\n",
    "import logging\n",
    "import os"
   ]
  },
  {
   "cell_type": "markdown",
   "metadata": {},
   "source": [
    "# 读取数据"
   ]
  },
  {
   "cell_type": "code",
   "execution_count": 22,
   "metadata": {},
   "outputs": [],
   "source": [
    "DATA_HUB = dict()\n",
    "DATA_URL = 'http://d2l-data.s3-accelerate.amazonaws.com/'\n",
    "DATA_HUB['time_machine'] = (DATA_URL + 'timemachine.txt',\n",
    "                            '090b5e7e70c295757f55df93cb0a180b9691891a')"
   ]
  },
  {
   "cell_type": "code",
   "execution_count": 23,
   "metadata": {},
   "outputs": [],
   "source": [
    "def download(name, cache_dir=os.path.join('..','data')):\n",
    "  \"\"\"下载一共DATA_HUB中的文件，返回本地文件名\"\"\"\n",
    "  assert name in DATA_HUB, f\"{name} 不存在于 {DATA_HUB}\"\n",
    "  url, sha1_hash = DATA_HUB[name]\n",
    "  os.makedirs(cache_dir, exist_ok=True)\n",
    "  fname = os.path.join(cache_dir, url.split('/')[-1])\n",
    "  if os.path.exists(fname):\n",
    "    sha1 = hashlib.sha1()\n",
    "    with open(fname, 'rb') as f :\n",
    "      while True:\n",
    "        data = f.read(1048576)\n",
    "        if not data:\n",
    "          break\n",
    "        sha1.update(data)\n",
    "    if sha1.hexdigest() == sha1_hash:\n",
    "      return fname #命中缓存\n",
    "  print(f'正在从{url}下载{fname}...')\n",
    "  r = requests.get(url, stream=True, verify=True)\n",
    "  with open(fname, 'wb') as f:\n",
    "    f.write(r.content)\n",
    "  return fname"
   ]
  },
  {
   "cell_type": "code",
   "execution_count": 24,
   "metadata": {},
   "outputs": [
    {
     "name": "stdout",
     "output_type": "stream",
     "text": [
      "# 文本总行数: 3221\n",
      "the time machine by h g wells\n",
      "twinkled and his usually pale face was flushed and animated the\n"
     ]
    }
   ],
   "source": [
    "\n",
    "\n",
    "def read_time_machine():\n",
    "  \"\"\"将时间机器数据集加载到文本行的列表中\"\"\"\n",
    "  with open(download('time_machine'),'r') as f:\n",
    "    lines = f.readlines()\n",
    "  return [re.sub('[^A-Za-z]+',' ',line).strip().lower() for line in lines]\n",
    "\n",
    "lines = read_time_machine()\n",
    "print(f'# 文本总行数: {len(lines)}')\n",
    "print(lines[0])\n",
    "print(lines[10])"
   ]
  },
  {
   "cell_type": "markdown",
   "metadata": {},
   "source": [
    "# 词云化"
   ]
  },
  {
   "cell_type": "code",
   "execution_count": 25,
   "metadata": {},
   "outputs": [
    {
     "name": "stdout",
     "output_type": "stream",
     "text": [
      "['the', 'time', 'machine', 'by', 'h', 'g', 'wells']\n",
      "[]\n",
      "[]\n",
      "[]\n",
      "[]\n",
      "['i']\n",
      "[]\n",
      "[]\n",
      "['the', 'time', 'traveller', 'for', 'so', 'it', 'will', 'be', 'convenient', 'to', 'speak', 'of', 'him']\n",
      "['was', 'expounding', 'a', 'recondite', 'matter', 'to', 'us', 'his', 'grey', 'eyes', 'shone', 'and']\n",
      "['twinkled', 'and', 'his', 'usually', 'pale', 'face', 'was', 'flushed', 'and', 'animated', 'the']\n"
     ]
    }
   ],
   "source": [
    "def tokenize(lines, token='word'):\n",
    "  \"\"\"将文本行拆分为单词或字符词元\"\"\"\n",
    "  if token == 'word':\n",
    "    return [line.split() for line in lines]\n",
    "  elif token == 'char':\n",
    "    return [list(line) for line in lines]\n",
    "  else:\n",
    "    print('错误：未知词元类型：' + token)\n",
    "\n",
    "tokens = tokenize(lines)\n",
    "for i in range(11):\n",
    "  print(tokens[i])"
   ]
  },
  {
   "cell_type": "markdown",
   "metadata": {},
   "source": [
    "# 词表\n",
    "字符串→数字，数字方便模型使用。\n",
    "统计唯一词元，根据出现频率编号，分配索引；出现比较少的直接剔除，降低复杂性。"
   ]
  },
  {
   "cell_type": "code",
   "execution_count": 26,
   "metadata": {},
   "outputs": [],
   "source": [
    "class Vocab:\n",
    "  \"\"\"文本词表\"\"\"\n",
    "  def __init__(self, tokens=None, min_freq=0,reserved_tokens=None):\n",
    "    if tokens is None:\n",
    "      tokens = []\n",
    "    if reserved_tokens is None:\n",
    "      reserved_tokens = []\n",
    "    # 按出现频率排序\n",
    "    counter = count_corpus(tokens)\n",
    "    self._token_freqs = sorted(counter.items(), key=lambda x: x[1], reverse=True)\n",
    "    # 未知词元的索引为0\n",
    "    self.idx_to_token = ['<unk>'] + reserved_tokens\n",
    "    self.token_to_idx = {token: idx\n",
    "                         for idx, token in enumerate(self.idx_to_token)}\n",
    "    for token , freq in self._token_freqs:\n",
    "      if freq < min_freq:\n",
    "        break\n",
    "      if token not in self.token_to_idx:\n",
    "        self.idx_to_token.append(token)\n",
    "        self.token_to_idx[token] = len(self.idx_to_token) - 1\n",
    "  \n",
    "  def __len__(self):\n",
    "    return len(self.idx_to_token)\n",
    "\n",
    "  def __getitem__(self, tokens):\n",
    "    if not isinstance(tokens, (list, tuple)):\n",
    "      return self.token_to_idx.get(tokens, self.unk)\n",
    "    return [self.__getitem__(token) for token in tokens]\n",
    "\n",
    "  def to_tokens(self, indices):\n",
    "    if not isinstance(indices, (list, tuple)):\n",
    "      return self.idx_to_token[indices]\n",
    "    return [self.idx_to_token[index] for index in indices]\n",
    "  \n",
    "  def unk(self): # 未知词元的索引为0\n",
    "    return 0\n",
    "  \n",
    "  def token_freqs(self):\n",
    "    return self._token_freqs\n",
    "  \n",
    "def count_corpus(tokens):\n",
    "  \"\"\"统计词云的频率\"\"\"\n",
    "  if len(tokens) == 0 or isinstance(tokens[0],list):\n",
    "    # 展平\n",
    "    tokens = [token for line in tokens for token in line]\n",
    "  return collections.Counter(tokens)"
   ]
  },
  {
   "cell_type": "code",
   "execution_count": 27,
   "metadata": {},
   "outputs": [
    {
     "name": "stdout",
     "output_type": "stream",
     "text": [
      "[('<unk>', 0), ('the', 1), ('i', 2), ('and', 3), ('of', 4), ('a', 5), ('to', 6), ('was', 7), ('in', 8), ('that', 9)]\n"
     ]
    }
   ],
   "source": [
    "vocab = Vocab(tokens)\n",
    "print(list(vocab.token_to_idx.items())[:10])"
   ]
  },
  {
   "cell_type": "code",
   "execution_count": 30,
   "metadata": {},
   "outputs": [
    {
     "data": {
      "text/plain": [
       "<__main__.Vocab at 0x7eff0e18e370>"
      ]
     },
     "execution_count": 30,
     "metadata": {},
     "output_type": "execute_result"
    }
   ],
   "source": [
    "def load_corpus_time_machine(max_tokens=-1):\n",
    "  \"\"\"返回时光机数据集的词云索引列表和词表\"\"\"\n",
    "  lines = read_time_machine()\n",
    "  tokens = tokenize(lines,'char')\n",
    "  vocab = Vocab(tokens)\n",
    "  # 因为时光机器数据集的每个文本行不一定是一个句子/段落，将所有文本行展平到列表\n",
    "  corpus = [vocab[token] for line in tokens for token in line]\n",
    "  if max_tokens > 0:\n",
    "    corpus = corpus[:max_tokens]\n",
    "  return corpus, vocab\n",
    "\n",
    "corpus, vocab = load_corpus_time_machine()\n",
    "# len(corpus), len(vocab)"
   ]
  }
 ],
 "metadata": {
  "kernelspec": {
   "display_name": "pytorch3",
   "language": "python",
   "name": "pytorch"
  },
  "language_info": {
   "codemirror_mode": {
    "name": "ipython",
    "version": 3
   },
   "file_extension": ".py",
   "mimetype": "text/x-python",
   "name": "python",
   "nbconvert_exporter": "python",
   "pygments_lexer": "ipython3",
   "version": "3.9.19"
  }
 },
 "nbformat": 4,
 "nbformat_minor": 2
}
