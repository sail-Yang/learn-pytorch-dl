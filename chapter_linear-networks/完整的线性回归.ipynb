{
 "cells": [
  {
   "cell_type": "code",
   "execution_count": 1,
   "id": "694d8e27-3f67-4f85-84c9-386182360a9c",
   "metadata": {},
   "outputs": [],
   "source": [
    "import random\n",
    "import torch\n",
    "import matplotlib.pyplot as plt"
   ]
  },
  {
   "cell_type": "markdown",
   "id": "6e4265fe-d3ed-4a28-b687-0507d028d8d8",
   "metadata": {},
   "source": [
    "# 完整的线性回归实现"
   ]
  },
  {
   "cell_type": "code",
   "execution_count": 51,
   "id": "8d28c4b4-bec1-46ee-814d-7d94d706ce6f",
   "metadata": {},
   "outputs": [],
   "source": [
    "# 构造一个数据集\n",
    "def synthetic_data(w,b,num_examples):\n",
    "    \"\"\"生成y = Xw + b + 噪声\"\"\"\n",
    "    X = torch.normal(0,1,(num_examples,len(w)))\n",
    "    y = torch.matmul(X,w) + b\n",
    "    y += torch.normal(0,0.01,y.shape)\n",
    "    return X, y.reshape((-1,1))\n",
    "# 真实的w和b\n",
    "true_w = torch.tensor([2,-3.4])\n",
    "true_b = 4.2\n",
    "features, labels = synthetic_data(true_w,true_b,1000)"
   ]
  },
  {
   "cell_type": "code",
   "execution_count": 52,
   "id": "eba54942-416c-414b-bb02-0ea45f0c5ea7",
   "metadata": {},
   "outputs": [
    {
     "name": "stdout",
     "output_type": "stream",
     "text": [
      "features: torch.Size([1000, 2]) \n",
      "label: tensor([4.0824])\n"
     ]
    },
    {
     "data": {
      "text/plain": [
       "<matplotlib.collections.PathCollection at 0x7f5d4be0af10>"
      ]
     },
     "execution_count": 52,
     "metadata": {},
     "output_type": "execute_result"
    },
    {
     "data": {
      "image/png": "[encoded data removed]",
      "text/plain": [
       "<Figure size 640x480 with 1 Axes>"
      ]
     },
     "metadata": {},
     "output_type": "display_data"
    }
   ],
   "source": [
    "print('features:', features.shape,'\\nlabel:',labels[0])\n",
    "# 看一下样本\n",
    "plt.scatter(features[:,1].detach().numpy(),\n",
    "           labels.detach().numpy(),1)"
   ]
  },
  {
   "cell_type": "code",
   "execution_count": 53,
   "id": "dae3b91f-4764-406b-9a80-34dd59713302",
   "metadata": {},
   "outputs": [
    {
     "name": "stdout",
     "output_type": "stream",
     "text": [
      "tensor([[ 0.4007, -0.9917],\n",
      "        [ 0.8178,  0.0884],\n",
      "        [ 2.2276,  0.2420],\n",
      "        [ 0.2635, -1.2359],\n",
      "        [ 1.2379, -0.8094],\n",
      "        [ 1.2602, -0.2874],\n",
      "        [ 0.0535,  3.4688],\n",
      "        [-0.2681, -0.2726],\n",
      "        [-0.3941,  0.6379],\n",
      "        [ 0.0148,  0.0064]]) \n",
      " tensor([[ 8.3812],\n",
      "        [ 5.5494],\n",
      "        [ 7.8519],\n",
      "        [ 8.9372],\n",
      "        [ 9.4145],\n",
      "        [ 7.6954],\n",
      "        [-7.4816],\n",
      "        [ 4.5901],\n",
      "        [ 1.2271],\n",
      "        [ 4.2104]])\n"
     ]
    }
   ],
   "source": [
    "# 接受批量大小，特征矩阵和标签向量，生成小批量样本\n",
    "def data_iter(batch_size, feaetures, labels):\n",
    "    num_examples = len(features)\n",
    "    indices = list(range(num_examples))\n",
    "    # 把下标打乱\n",
    "    random.shuffle(indices)\n",
    "    for i in range(0, num_examples, batch_size):\n",
    "        batch_indices = torch.tensor(indices[i:min(i+batch_size, num_examples)])\n",
    "        yield features[batch_indices], labels[batch_indices]\n",
    "batch_size = 10\n",
    "for X,y in data_iter(batch_size, features, labels):\n",
    "    print(X,'\\n',y)\n",
    "    break"
   ]
  },
  {
   "cell_type": "code",
   "execution_count": 60,
   "id": "7d75b59b-1839-42aa-b07d-40674c4f3e02",
   "metadata": {},
   "outputs": [],
   "source": [
    "# 定义初始化模型参数\n",
    "w = torch.normal(0,0.01,size=(2,1),requires_grad=True)\n",
    "b = torch.zeros(1,requires_grad=True)"
   ]
  },
  {
   "cell_type": "code",
   "execution_count": 55,
   "id": "7e2a69ef-3f10-4691-bca2-6400b4e59220",
   "metadata": {},
   "outputs": [],
   "source": [
    "# 定义模型\n",
    "def linreg(X,w,b):\n",
    "    \"\"\"线性回归模型\"\"\"\n",
    "    return torch.matmul(X,w)+b"
   ]
  },
  {
   "cell_type": "code",
   "execution_count": 56,
   "id": "dac2439b-55c2-4a6c-a01e-aed538e1b70d",
   "metadata": {},
   "outputs": [],
   "source": [
    "# 定义损失函数\n",
    "def squared_loss(y_hat, y):\n",
    "    \"\"\"均方损失\"\"\"\n",
    "    return (y_hat - y.reshape(y_hat.shape)) ** 2 / 2"
   ]
  },
  {
   "cell_type": "code",
   "execution_count": 57,
   "id": "745d1256-7ea2-4d61-9ecf-33b9f4791b5c",
   "metadata": {},
   "outputs": [],
   "source": [
    "# 优化算法\n",
    "def sgd(params,lr,batch_size):\n",
    "    \"\"\"小批量随机梯度下降\"\"\"\n",
    "    with torch.no_grad():\n",
    "        for param in params:\n",
    "            param -= lr * param.grad / batch_size\n",
    "            # 防止累积梯度\n",
    "            param.grad.zero_()"
   ]
  },
  {
   "cell_type": "code",
   "execution_count": 61,
   "id": "44de4492-862f-4e5b-b64d-e5a67b6257e2",
   "metadata": {},
   "outputs": [
    {
     "name": "stdout",
     "output_type": "stream",
     "text": [
      "epoch 1, loss 0.036133\n",
      "epoch 2, loss 0.000125\n",
      "epoch 3, loss 0.000050\n",
      "epoch 4, loss 0.000050\n",
      "epoch 5, loss 0.000050\n",
      "epoch 6, loss 0.000050\n",
      "epoch 7, loss 0.000050\n",
      "epoch 8, loss 0.000050\n",
      "epoch 9, loss 0.000050\n",
      "epoch 10, loss 0.000050\n"
     ]
    }
   ],
   "source": [
    "# 训练\n",
    "lr = 0.03\n",
    "num_epochs = 10\n",
    "net = linreg\n",
    "loss = squared_loss\n",
    "\n",
    "for epoch in range(num_epochs):\n",
    "    for X,y in data_iter(batch_size, features, labels):\n",
    "        l = loss(net(X,w,b), y)\n",
    "        # 因为l的形状是(batch_size, 1)，而不是一个标量\n",
    "        l.sum().backward()\n",
    "        sgd([w,b],lr,batch_size)\n",
    "    with torch.no_grad():\n",
    "        train_l = loss(net(features,w,b),labels)\n",
    "        print(f'epoch {epoch + 1}, loss {float(train_l.mean()):f}')"
   ]
  },
  {
   "cell_type": "code",
   "execution_count": 62,
   "id": "1f10a0de-6acb-4eb0-9a8c-accb897aca3d",
   "metadata": {},
   "outputs": [
    {
     "name": "stdout",
     "output_type": "stream",
     "text": [
      "w的估计误差: tensor([ 0.0003, -0.0002], grad_fn=<SubBackward0>)\n",
      "b的估计误差: tensor([0.0005], grad_fn=<RsubBackward1>)\n"
     ]
    }
   ],
   "source": [
    "print(f'w的估计误差: {true_w - w.reshape(true_w.shape)}')\n",
    "print(f'b的估计误差: {true_b - b}')"
   ]
  },
  {
   "cell_type": "markdown",
   "id": "10808ee7-cbb3-46af-9a93-80c0322f3d1c",
   "metadata": {},
   "source": [
    "# 调库版"
   ]
  },
  {
   "cell_type": "code",
   "execution_count": 76,
   "id": "2b58a039-16f2-49e6-a0c7-c89469309f90",
   "metadata": {},
   "outputs": [],
   "source": [
    "from torch.utils import data\n",
    "\n",
    "true_w = torch.tensor([2, -3.4])\n",
    "true_b = 4.2\n",
    "features, labels = synthetic_data(true_w, true_b,1000)"
   ]
  },
  {
   "cell_type": "code",
   "execution_count": 77,
   "id": "5dc3dff8-b5d7-4946-8b56-d06cc5d2e52b",
   "metadata": {},
   "outputs": [
    {
     "data": {
      "text/plain": [
       "[tensor([[ 1.7326, -1.2675],\n",
       "         [-0.2990, -0.1304],\n",
       "         [-0.1770,  0.2699],\n",
       "         [-0.3366,  1.6301],\n",
       "         [ 0.9851, -1.6781],\n",
       "         [ 0.8341, -0.1431],\n",
       "         [ 0.6127,  1.0725],\n",
       "         [ 0.0206,  1.2832],\n",
       "         [ 0.6759,  1.2441],\n",
       "         [-0.5705, -0.7812]]),\n",
       " tensor([[11.9743],\n",
       "         [ 4.0481],\n",
       "         [ 2.9315],\n",
       "         [-2.0055],\n",
       "         [11.8844],\n",
       "         [ 6.3471],\n",
       "         [ 1.7967],\n",
       "         [-0.1521],\n",
       "         [ 1.3047],\n",
       "         [ 5.7088]])]"
      ]
     },
     "execution_count": 77,
     "metadata": {},
     "output_type": "execute_result"
    }
   ],
   "source": [
    "def load_array(data_arrays, batch_size, is_train=True):\n",
    "    \"\"\"构造一个PyTorch数据迭代器\"\"\"\n",
    "    dataset = data.TensorDataset(*data_arrays)\n",
    "    return data.DataLoader(dataset, batch_size, shuffle=is_train)\n",
    "\n",
    "batch_size = 10\n",
    "data_iter = load_array((features, labels), batch_size)\n",
    "\n",
    "next(iter(data_iter))"
   ]
  },
  {
   "cell_type": "code",
   "execution_count": 78,
   "id": "833e7caa-2b8c-47f7-9c85-156d12311262",
   "metadata": {},
   "outputs": [],
   "source": [
    "# 模型定义\n",
    "from torch import nn\n",
    "net = nn.Sequential(nn.Linear(2,1))"
   ]
  },
  {
   "cell_type": "code",
   "execution_count": 79,
   "id": "a560ab18-a2dc-4a0c-96fa-264fc14fe2c4",
   "metadata": {},
   "outputs": [
    {
     "data": {
      "text/plain": [
       "tensor([0.])"
      ]
     },
     "execution_count": 79,
     "metadata": {},
     "output_type": "execute_result"
    }
   ],
   "source": [
    "# 初始化模型参数\n",
    "net[0].weight.data.normal_(0,0.01)\n",
    "net[0].bias.data.fill_(0)"
   ]
  },
  {
   "cell_type": "code",
   "execution_count": 80,
   "id": "49803d48-a10f-47e9-b9a2-1e2acc563744",
   "metadata": {},
   "outputs": [],
   "source": [
    "loss = nn.MSELoss()"
   ]
  },
  {
   "cell_type": "code",
   "execution_count": 81,
   "id": "fa339626-08e4-4efb-a699-6cab6296f87d",
   "metadata": {},
   "outputs": [],
   "source": [
    "trainer = torch.optim.SGD(net.parameters(), lr=0.03)"
   ]
  },
  {
   "cell_type": "code",
   "execution_count": 82,
   "id": "bd5ac1b8-c7d3-41ff-a8b9-5d3bdfd84082",
   "metadata": {},
   "outputs": [
    {
     "name": "stdout",
     "output_type": "stream",
     "text": [
      "epoch 1, loss 0.000279\n",
      "epoch 2, loss 0.000102\n",
      "epoch 3, loss 0.000103\n"
     ]
    }
   ],
   "source": [
    "num_epochs = 3\n",
    "for epoch in range(num_epochs):\n",
    "    for X,y in data_iter:\n",
    "        l = loss(net(X), y)\n",
    "        trainer.zero_grad()\n",
    "        l.backward()\n",
    "        trainer.step()\n",
    "    l = loss(net(features), labels)\n",
    "    print(f'epoch {epoch + 1}, loss {l:f}')"
   ]
  },
  {
   "cell_type": "code",
   "execution_count": null,
   "id": "71dafc8c-57c1-4cb0-94d0-b91584d9c855",
   "metadata": {},
   "outputs": [],
   "source": []
  }
 ],
 "metadata": {
  "kernelspec": {
   "display_name": "pytorch3",
   "language": "python",
   "name": "pytorch"
  },
  "language_info": {
   "codemirror_mode": {
    "name": "ipython",
    "version": 3
   },
   "file_extension": ".py",
   "mimetype": "text/x-python",
   "name": "python",
   "nbconvert_exporter": "python",
   "pygments_lexer": "ipython3",
   "version": "3.9.19"
  }
 },
 "nbformat": 4,
 "nbformat_minor": 5
}
