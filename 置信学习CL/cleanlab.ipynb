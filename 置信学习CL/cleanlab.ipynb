{
 "cells": [
  {
   "cell_type": "code",
   "execution_count": 3,
   "metadata": {},
   "outputs": [],
   "source": [
    "import pandas as pd\n",
    "import numpy as np"
   ]
  },
  {
   "cell_type": "markdown",
   "metadata": {},
   "source": [
    "# CL计算步骤"
   ]
  },
  {
   "cell_type": "markdown",
   "metadata": {},
   "source": [
    "构建样本"
   ]
  },
  {
   "cell_type": "code",
   "execution_count": 4,
   "metadata": {},
   "outputs": [
    {
     "data": {
      "text/html": [
       "<div>\n",
       "<style scoped>\n",
       "    .dataframe tbody tr th:only-of-type {\n",
       "        vertical-align: middle;\n",
       "    }\n",
       "\n",
       "    .dataframe tbody tr th {\n",
       "        vertical-align: top;\n",
       "    }\n",
       "\n",
       "    .dataframe thead th {\n",
       "        text-align: right;\n",
       "    }\n",
       "</style>\n",
       "<table border=\"1\" class=\"dataframe\">\n",
       "  <thead>\n",
       "    <tr style=\"text-align: right;\">\n",
       "      <th></th>\n",
       "      <th>j=0</th>\n",
       "      <th>j=1</th>\n",
       "      <th>label_origin</th>\n",
       "    </tr>\n",
       "  </thead>\n",
       "  <tbody>\n",
       "    <tr>\n",
       "      <th>0</th>\n",
       "      <td>0.9</td>\n",
       "      <td>0.1</td>\n",
       "      <td>0</td>\n",
       "    </tr>\n",
       "    <tr>\n",
       "      <th>1</th>\n",
       "      <td>0.9</td>\n",
       "      <td>0.1</td>\n",
       "      <td>0</td>\n",
       "    </tr>\n",
       "    <tr>\n",
       "      <th>2</th>\n",
       "      <td>0.5</td>\n",
       "      <td>0.5</td>\n",
       "      <td>0</td>\n",
       "    </tr>\n",
       "    <tr>\n",
       "      <th>3</th>\n",
       "      <td>0.3</td>\n",
       "      <td>0.7</td>\n",
       "      <td>0</td>\n",
       "    </tr>\n",
       "    <tr>\n",
       "      <th>4</th>\n",
       "      <td>0.3</td>\n",
       "      <td>0.7</td>\n",
       "      <td>0</td>\n",
       "    </tr>\n",
       "    <tr>\n",
       "      <th>5</th>\n",
       "      <td>0.2</td>\n",
       "      <td>0.9</td>\n",
       "      <td>1</td>\n",
       "    </tr>\n",
       "    <tr>\n",
       "      <th>6</th>\n",
       "      <td>0.2</td>\n",
       "      <td>0.8</td>\n",
       "      <td>1</td>\n",
       "    </tr>\n",
       "    <tr>\n",
       "      <th>7</th>\n",
       "      <td>0.4</td>\n",
       "      <td>0.7</td>\n",
       "      <td>1</td>\n",
       "    </tr>\n",
       "    <tr>\n",
       "      <th>8</th>\n",
       "      <td>0.5</td>\n",
       "      <td>0.5</td>\n",
       "      <td>1</td>\n",
       "    </tr>\n",
       "    <tr>\n",
       "      <th>9</th>\n",
       "      <td>0.6</td>\n",
       "      <td>0.4</td>\n",
       "      <td>1</td>\n",
       "    </tr>\n",
       "  </tbody>\n",
       "</table>\n",
       "</div>"
      ],
      "text/plain": [
       "   j=0  j=1  label_origin\n",
       "0  0.9  0.1             0\n",
       "1  0.9  0.1             0\n",
       "2  0.5  0.5             0\n",
       "3  0.3  0.7             0\n",
       "4  0.3  0.7             0\n",
       "5  0.2  0.9             1\n",
       "6  0.2  0.8             1\n",
       "7  0.4  0.7             1\n",
       "8  0.5  0.5             1\n",
       "9  0.6  0.4             1"
      ]
     },
     "execution_count": 4,
     "metadata": {},
     "output_type": "execute_result"
    }
   ],
   "source": [
    "p_0 = [0.9, 0.9, 0.5, 0.3, 0.3, 0.2, 0.2, 0.4, 0.5, 0.6,0.9, 0.9, 0.5, 0.3, 0.3, 0.2, 0.2, 0.4, 0.5, 0.6]\n",
    "p_1 = [0.1, 0.1, 0.5, 0.7, 0.7, 0.9, 0.8, 0.7, 0.5, 0.4,0.1, 0.1, 0.5, 0.7, 0.7, 0.9, 0.8, 0.7, 0.5, 0.4]\n",
    "label_origin = [0, 0, 0, 0, 0, 1, 1, 1, 1, 1,0, 0, 0, 0, 0, 1, 1, 1, 1, 1]\n",
    "# 构建DataFrame\n",
    "dict_data = {\n",
    "    \"j=0\": p_0,\n",
    "    \"j=1\": p_1,\n",
    "    \"label_origin\": label_origin,\n",
    "}\n",
    "df_data = pd.DataFrame(dict_data)\n",
    "df_data = df_data[:10]\n",
    "df_data"
   ]
  },
  {
   "cell_type": "markdown",
   "metadata": {},
   "source": [
    "1. 计算置信度阈值"
   ]
  },
  {
   "cell_type": "code",
   "execution_count": 5,
   "metadata": {},
   "outputs": [
    {
     "name": "stdout",
     "output_type": "stream",
     "text": [
      "the thersholds of p0 and p1 are {}, {} 0.5799999999999998 0.66\n"
     ]
    }
   ],
   "source": [
    "list_0 = list()\n",
    "list_1 = list()\n",
    "for index, row in df_data.iterrows():\n",
    "  if row['label_origin'] == 0:\n",
    "    list_0.append(row['j=0'])\n",
    "  elif row['label_origin'] == 1:\n",
    "    list_1.append(row['j=1'])\n",
    "  else:\n",
    "    pass\n",
    "thershold_p0 = np.mean(list_0)\n",
    "thershold_p1 = np.mean(list_1)\n",
    "print(\"the thersholds of p0 and p1 are {}, {}\", thershold_p0, thershold_p1 )"
   ]
  },
  {
   "cell_type": "markdown",
   "metadata": {},
   "source": [
    "2. 获取计数矩阵 $C_{\\overline{y}, y^*}$"
   ]
  },
  {
   "cell_type": "code",
   "execution_count": 6,
   "metadata": {},
   "outputs": [
    {
     "name": "stdout",
     "output_type": "stream",
     "text": [
      "          true_0  true_1\n",
      "manual_0     2.0     2.0\n",
      "manual_1     1.0     3.0\n"
     ]
    }
   ],
   "source": [
    "manual_labels = ['manual_0','manual_1']\n",
    "true_labels = ['true_0','true_1']\n",
    "df_count = pd.DataFrame(data=0, index=manual_labels, columns= true_labels, dtype=float)\n",
    "\n",
    "for index, row in df_data.iterrows():\n",
    "    label = int(row[\"label_origin\"])\n",
    "    if row['j=0'] >= thershold_p0 and row['j=0']  > row['j=1']:\n",
    "        if label == 0:\n",
    "            df_count.loc['manual_0','true_0'] = df_count.loc['manual_0','true_0'] + 1\n",
    "        elif label == 1:\n",
    "            df_count.loc['manual_1','true_0'] = df_count.loc['manual_1','true_0'] + 1\n",
    "        else:\n",
    "            pass\n",
    "    elif row['j=1'] >= thershold_p1 and row['j=1']  > row['j=0']:\n",
    "        if label == 0:\n",
    "            df_count.loc['manual_0','true_1'] = df_count.loc['manual_0','true_1'] + 1\n",
    "        elif label == 1:\n",
    "            df_count.loc['manual_1','true_1'] = df_count.loc['manual_1','true_1'] + 1\n",
    "        else:\n",
    "            pass\n",
    "print(df_count)\n"
   ]
  },
  {
   "cell_type": "markdown",
   "metadata": {},
   "source": [
    "3. 校准数据，让每行之和等于对应标签数"
   ]
  },
  {
   "cell_type": "code",
   "execution_count": 7,
   "metadata": {},
   "outputs": [
    {
     "data": {
      "text/html": [
       "<div>\n",
       "<style scoped>\n",
       "    .dataframe tbody tr th:only-of-type {\n",
       "        vertical-align: middle;\n",
       "    }\n",
       "\n",
       "    .dataframe tbody tr th {\n",
       "        vertical-align: top;\n",
       "    }\n",
       "\n",
       "    .dataframe thead th {\n",
       "        text-align: right;\n",
       "    }\n",
       "</style>\n",
       "<table border=\"1\" class=\"dataframe\">\n",
       "  <thead>\n",
       "    <tr style=\"text-align: right;\">\n",
       "      <th></th>\n",
       "      <th>true_0</th>\n",
       "      <th>true_1</th>\n",
       "    </tr>\n",
       "  </thead>\n",
       "  <tbody>\n",
       "    <tr>\n",
       "      <th>manual_0</th>\n",
       "      <td>2.50</td>\n",
       "      <td>2.50</td>\n",
       "    </tr>\n",
       "    <tr>\n",
       "      <th>manual_1</th>\n",
       "      <td>1.25</td>\n",
       "      <td>3.75</td>\n",
       "    </tr>\n",
       "  </tbody>\n",
       "</table>\n",
       "</div>"
      ],
      "text/plain": [
       "          true_0  true_1\n",
       "manual_0    2.50    2.50\n",
       "manual_1    1.25    3.75"
      ]
     },
     "execution_count": 7,
     "metadata": {},
     "output_type": "execute_result"
    }
   ],
   "source": [
    "manulal_label_0_num = (df_data['label_origin'] == 0).sum()\n",
    "manulal_label_1_num = (df_data['label_origin'] == 1).sum()\n",
    "\n",
    "df_count.loc['manual_0'] = df_count.loc['manual_0'] / df_count.loc['manual_0'].sum() * manulal_label_0_num\n",
    "df_count.loc['manual_1'] = df_count.loc['manual_1'] / df_count.loc['manual_1'].sum() * manulal_label_1_num\n",
    "df_count"
   ]
  },
  {
   "cell_type": "markdown",
   "metadata": {},
   "source": [
    "4. 计算联合分布"
   ]
  },
  {
   "cell_type": "code",
   "execution_count": 8,
   "metadata": {},
   "outputs": [
    {
     "data": {
      "text/html": [
       "<div>\n",
       "<style scoped>\n",
       "    .dataframe tbody tr th:only-of-type {\n",
       "        vertical-align: middle;\n",
       "    }\n",
       "\n",
       "    .dataframe tbody tr th {\n",
       "        vertical-align: top;\n",
       "    }\n",
       "\n",
       "    .dataframe thead th {\n",
       "        text-align: right;\n",
       "    }\n",
       "</style>\n",
       "<table border=\"1\" class=\"dataframe\">\n",
       "  <thead>\n",
       "    <tr style=\"text-align: right;\">\n",
       "      <th></th>\n",
       "      <th>true_0</th>\n",
       "      <th>true_1</th>\n",
       "    </tr>\n",
       "  </thead>\n",
       "  <tbody>\n",
       "    <tr>\n",
       "      <th>manual_0</th>\n",
       "      <td>0.250</td>\n",
       "      <td>0.250</td>\n",
       "    </tr>\n",
       "    <tr>\n",
       "      <th>manual_1</th>\n",
       "      <td>0.125</td>\n",
       "      <td>0.375</td>\n",
       "    </tr>\n",
       "  </tbody>\n",
       "</table>\n",
       "</div>"
      ],
      "text/plain": [
       "          true_0  true_1\n",
       "manual_0   0.250   0.250\n",
       "manual_1   0.125   0.375"
      ]
     },
     "execution_count": 8,
     "metadata": {},
     "output_type": "execute_result"
    }
   ],
   "source": [
    "df_count = df_count / df_count.sum().sum()\n",
    "df_count"
   ]
  },
  {
   "cell_type": "markdown",
   "metadata": {},
   "source": [
    "# 使用cleanlab2.0\n",
    "[使用cleanlab2.0](https://docs.cleanlab.ai/v2.0.0/tutorials/image.html)"
   ]
  },
  {
   "cell_type": "code",
   "execution_count": 9,
   "metadata": {},
   "outputs": [],
   "source": [
    "import numpy as np\n",
    "import torch\n",
    "import warnings\n",
    "\n",
    "SEED = 123\n",
    "np.random.seed(SEED)\n",
    "torch.manual_seed(SEED)\n",
    "torch.backends.cudnn.deterministic = True\n",
    "torch.backends.cudnn.benchmark = False\n",
    "torch.cuda.manual_seed_all(SEED)\n",
    "warnings.filterwarnings(\"ignore\", \"Lazy modules are a new feature.*\")"
   ]
  },
  {
   "cell_type": "code",
   "execution_count": 10,
   "metadata": {},
   "outputs": [],
   "source": [
    "from torchvision import datasets,transforms\n",
    "from torch.utils.data import DataLoader\n",
    "\n",
    "transform = transforms.Compose([\n",
    "    transforms.ToTensor(),  # 将PIL Image或numpy.ndarray转换为tensor，并自动将像素值范围从[0, 255]变为[0.0, 1.0]\n",
    "    transforms.Normalize((0.1307,), (0.3081,))  # 根据均值和标准差对张量图像进行标准化\n",
    "])\n",
    "\n",
    "# 下载训练集\n",
    "train_dataset = datasets.MNIST(root='../data', train=True, transform=transform, download=True)\n",
    "\n",
    "# 下载测试集\n",
    "test_dataset = datasets.MNIST(root='../data', train=False, transform=transform, download=True)\n",
    "\n",
    "# 使用 DataLoader 来加载数据\n",
    "train_loader = DataLoader(dataset=train_dataset, batch_size=64, shuffle=True)\n",
    "test_loader = DataLoader(dataset=test_dataset, batch_size=64, shuffle=False)\n",
    "\n"
   ]
  },
  {
   "cell_type": "code",
   "execution_count": 11,
   "metadata": {},
   "outputs": [],
   "source": [
    "from sklearn.datasets import fetch_openml\n",
    "\n",
    "mnist = fetch_openml(\"mnist_784\")  # Fetch the MNIST dataset\n",
    "\n",
    "X = mnist.data.astype(\"float32\").to_numpy() # 2D array (images are flattened into 1D)\n",
    "X /= 255.0  # Scale the features to the [0, 1] range\n",
    "X = X.reshape(len(X), 1, 28, 28)  # reshape into [N, C, H, W] for PyTorch\n",
    "\n",
    "y = mnist.target.astype(\"int64\").to_numpy()  # 1D array of labels"
   ]
  },
  {
   "cell_type": "code",
   "execution_count": 12,
   "metadata": {},
   "outputs": [],
   "source": [
    "from torch import nn\n",
    "\n",
    "class ClassifierModule(nn.Module):\n",
    "    def __init__(self):\n",
    "        super().__init__()\n",
    "\n",
    "        self.cnn = nn.Sequential(\n",
    "            nn.Conv2d(1, 6, 3),\n",
    "            nn.ReLU(),\n",
    "            nn.BatchNorm2d(6),\n",
    "            nn.MaxPool2d(kernel_size=2, stride=2),\n",
    "            nn.Conv2d(6, 16, 3),\n",
    "            nn.ReLU(),\n",
    "            nn.BatchNorm2d(16),\n",
    "            nn.MaxPool2d(kernel_size=2, stride=2),\n",
    "        )\n",
    "        self.out = nn.Sequential(\n",
    "            nn.Flatten(),\n",
    "            nn.LazyLinear(128),\n",
    "            nn.ReLU(),\n",
    "            nn.Linear(128, 10),\n",
    "            nn.Softmax(dim=-1),\n",
    "        )\n",
    "\n",
    "    def forward(self, X):\n",
    "        X = self.cnn(X)\n",
    "        X = self.out(X)\n",
    "        return X"
   ]
  },
  {
   "cell_type": "code",
   "execution_count": 13,
   "metadata": {},
   "outputs": [],
   "source": [
    "from skorch import NeuralNetClassifier\n",
    "\n",
    "model_skorch = NeuralNetClassifier(ClassifierModule)"
   ]
  },
  {
   "cell_type": "code",
   "execution_count": 14,
   "metadata": {},
   "outputs": [
    {
     "name": "stderr",
     "output_type": "stream",
     "text": [
      "/data2/fyang/.conda/envs/pytorch/lib/python3.9/site-packages/torch/nn/modules/lazy.py:181: UserWarning: Lazy modules are a new feature under heavy development so changes to the API or functionality can happen at any moment.\n",
      "  warnings.warn('Lazy modules are a new feature under heavy development '\n",
      "/data2/fyang/.conda/envs/pytorch/lib/python3.9/site-packages/torch/nn/modules/lazy.py:181: UserWarning: Lazy modules are a new feature under heavy development so changes to the API or functionality can happen at any moment.\n",
      "  warnings.warn('Lazy modules are a new feature under heavy development '\n",
      "/data2/fyang/.conda/envs/pytorch/lib/python3.9/site-packages/torch/nn/modules/lazy.py:181: UserWarning: Lazy modules are a new feature under heavy development so changes to the API or functionality can happen at any moment.\n",
      "  warnings.warn('Lazy modules are a new feature under heavy development '\n"
     ]
    },
    {
     "name": "stdout",
     "output_type": "stream",
     "text": [
      "  epoch    train_loss    valid_acc    valid_loss      dur\n",
      "-------  ------------  -----------  ------------  -------\n",
      "      1        \u001b[36m0.7540\u001b[0m       \u001b[32m0.9153\u001b[0m        \u001b[35m0.3329\u001b[0m  89.0838\n",
      "  epoch    train_loss    valid_acc    valid_loss      dur\n",
      "-------  ------------  -----------  ------------  -------\n",
      "      1        \u001b[36m0.6877\u001b[0m       \u001b[32m0.9276\u001b[0m        \u001b[35m0.2758\u001b[0m  89.9270\n",
      "  epoch    train_loss    valid_acc    valid_loss      dur\n",
      "-------  ------------  -----------  ------------  -------\n",
      "      1        \u001b[36m0.7560\u001b[0m       \u001b[32m0.9290\u001b[0m        \u001b[35m0.2877\u001b[0m  99.9184\n",
      "      2        \u001b[36m0.2021\u001b[0m       \u001b[32m0.9504\u001b[0m        \u001b[35m0.1801\u001b[0m  29.2458\n",
      "      2        \u001b[36m0.2288\u001b[0m       \u001b[32m0.9436\u001b[0m        \u001b[35m0.2109\u001b[0m  42.6391\n",
      "      2        \u001b[36m0.1897\u001b[0m       \u001b[32m0.9502\u001b[0m        \u001b[35m0.1804\u001b[0m  43.2276\n",
      "      3        \u001b[36m0.1411\u001b[0m       \u001b[32m0.9582\u001b[0m        \u001b[35m0.1422\u001b[0m  11.3423\n",
      "      3        \u001b[36m0.1627\u001b[0m       \u001b[32m0.9534\u001b[0m        \u001b[35m0.1642\u001b[0m  12.0812\n",
      "      3        \u001b[36m0.1370\u001b[0m       \u001b[32m0.9595\u001b[0m        \u001b[35m0.1440\u001b[0m  11.9652\n",
      "      4        \u001b[36m0.1130\u001b[0m       \u001b[32m0.9624\u001b[0m        \u001b[35m0.1217\u001b[0m  9.6235\n",
      "      4        \u001b[36m0.1116\u001b[0m       \u001b[32m0.9641\u001b[0m        \u001b[35m0.1235\u001b[0m  9.9323\n",
      "      4        \u001b[36m0.1312\u001b[0m       \u001b[32m0.9603\u001b[0m        \u001b[35m0.1396\u001b[0m  11.9741\n",
      "      5        \u001b[36m0.0956\u001b[0m       \u001b[32m0.9667\u001b[0m        \u001b[35m0.1088\u001b[0m  12.2450\n",
      "      5        \u001b[36m0.1119\u001b[0m       \u001b[32m0.9660\u001b[0m        \u001b[35m0.1236\u001b[0m  10.5238\n",
      "      5        \u001b[36m0.0959\u001b[0m       \u001b[32m0.9686\u001b[0m        \u001b[35m0.1104\u001b[0m  11.4414\n",
      "      6        \u001b[36m0.0834\u001b[0m       \u001b[32m0.9694\u001b[0m        \u001b[35m0.0996\u001b[0m  11.5691\n",
      "      6        \u001b[36m0.0986\u001b[0m       \u001b[32m0.9694\u001b[0m        \u001b[35m0.1135\u001b[0m  10.7451\n",
      "      6        \u001b[36m0.0850\u001b[0m       \u001b[32m0.9714\u001b[0m        \u001b[35m0.1010\u001b[0m  11.0974\n",
      "      7        \u001b[36m0.0742\u001b[0m       \u001b[32m0.9710\u001b[0m        \u001b[35m0.0926\u001b[0m  8.2005\n",
      "      7        \u001b[36m0.0886\u001b[0m       \u001b[32m0.9710\u001b[0m        \u001b[35m0.1056\u001b[0m  9.9508\n",
      "      7        \u001b[36m0.0768\u001b[0m       \u001b[32m0.9717\u001b[0m        \u001b[35m0.0943\u001b[0m  11.5732\n",
      "      8        \u001b[36m0.0670\u001b[0m       \u001b[32m0.9719\u001b[0m        \u001b[35m0.0876\u001b[0m  11.3816\n",
      "      8        \u001b[36m0.0808\u001b[0m       \u001b[32m0.9725\u001b[0m        \u001b[35m0.0987\u001b[0m  11.0744\n",
      "      8        \u001b[36m0.0704\u001b[0m       \u001b[32m0.9731\u001b[0m        \u001b[35m0.0889\u001b[0m  11.3252\n",
      "      9        \u001b[36m0.0613\u001b[0m       \u001b[32m0.9740\u001b[0m        \u001b[35m0.0833\u001b[0m  10.9032\n",
      "      9        \u001b[36m0.0745\u001b[0m       \u001b[32m0.9732\u001b[0m        \u001b[35m0.0938\u001b[0m  11.5169\n",
      "      9        \u001b[36m0.0652\u001b[0m       \u001b[32m0.9741\u001b[0m        \u001b[35m0.0845\u001b[0m  11.7020\n",
      "     10        \u001b[36m0.0567\u001b[0m       \u001b[32m0.9749\u001b[0m        \u001b[35m0.0804\u001b[0m  9.8624\n",
      "     10        \u001b[36m0.0692\u001b[0m       \u001b[32m0.9741\u001b[0m        \u001b[35m0.0896\u001b[0m  11.5759\n",
      "     10        \u001b[36m0.0609\u001b[0m       \u001b[32m0.9758\u001b[0m        \u001b[35m0.0809\u001b[0m  9.5828\n"
     ]
    }
   ],
   "source": [
    "from sklearn.model_selection import cross_val_predict\n",
    "\n",
    "num_crossval_folds = 3  # for efficiency; values like 5 or 10 will generally work better\n",
    "pred_probs = cross_val_predict(\n",
    "    model_skorch,\n",
    "    X,\n",
    "    y,\n",
    "    cv=num_crossval_folds,\n",
    "    method=\"predict_proba\",\n",
    "    n_jobs=4\n",
    ")"
   ]
  },
  {
   "cell_type": "code",
   "execution_count": 21,
   "metadata": {},
   "outputs": [],
   "source": [
    "import matplotlib.pyplot as plt\n",
    "\n",
    "def plot_examples(id_iter, nrows=1, ncols=1):\n",
    "    for count, id in enumerate(id_iter):\n",
    "        plt.subplot(nrows, ncols, count + 1)\n",
    "        plt.imshow(X[id].reshape(28, 28), cmap=\"gray\")\n",
    "        plt.title(f\"id: {id} \\n label: {y[id]}\")\n",
    "        plt.axis(\"off\")\n",
    "\n",
    "    plt.tight_layout(h_pad=2.0)"
   ]
  },
  {
   "cell_type": "code",
   "execution_count": 16,
   "metadata": {},
   "outputs": [
    {
     "name": "stdout",
     "output_type": "stream",
     "text": [
      "Cross-validated estimate of accuracy on held-out data: 0.9765428571428572\n"
     ]
    }
   ],
   "source": [
    "from sklearn.metrics import accuracy_score\n",
    "\n",
    "predicted_labels = pred_probs.argmax(axis=1)\n",
    "acc = accuracy_score(y, predicted_labels)\n",
    "print(f\"Cross-validated estimate of accuracy on held-out data: {acc}\")"
   ]
  },
  {
   "cell_type": "code",
   "execution_count": 17,
   "metadata": {},
   "outputs": [
    {
     "name": "stdout",
     "output_type": "stream",
     "text": [
      "Cleanlab found 133 label issues.\n",
      "Top 15 most likely label errors: \n",
      " [59915 24798  8200  8729  2676 50239 20350 26882 32342 49543 53216 20672\n",
      "  7010 51248 39184]\n"
     ]
    }
   ],
   "source": [
    "from cleanlab.filter import find_label_issues\n",
    "\n",
    "ranked_label_issues = find_label_issues(\n",
    "    y,\n",
    "    pred_probs,\n",
    "    return_indices_ranked_by=\"self_confidence\",\n",
    ")\n",
    "\n",
    "print(f\"Cleanlab found {len(ranked_label_issues)} label issues.\")\n",
    "print(f\"Top 15 most likely label errors: \\n {ranked_label_issues[:15]}\")"
   ]
  },
  {
   "cell_type": "code",
   "execution_count": 18,
   "metadata": {},
   "outputs": [
    {
     "data": {
      "image/png": "[encoded data removed]",
      "text/plain": [
       "<Figure size 640x480 with 15 Axes>"
      ]
     },
     "metadata": {},
     "output_type": "display_data"
    }
   ],
   "source": [
    "plot_examples(ranked_label_issues[range(15)], 3, 5)"
   ]
  },
  {
   "cell_type": "code",
   "execution_count": 19,
   "metadata": {},
   "outputs": [
    {
     "data": {
      "image/png": "[encoded data removed]",
      "text/plain": [
       "<Figure size 640x480 with 1 Axes>"
      ]
     },
     "metadata": {},
     "output_type": "display_data"
    }
   ],
   "source": [
    "plot_examples([59915])"
   ]
  },
  {
   "cell_type": "code",
   "execution_count": 20,
   "metadata": {},
   "outputs": [
    {
     "data": {
      "image/png": "[encoded data removed]",
      "text/plain": [
       "<Figure size 640x480 with 1 Axes>"
      ]
     },
     "metadata": {},
     "output_type": "display_data"
    }
   ],
   "source": [
    "plot_examples([59701])"
   ]
  }
 ],
 "metadata": {
  "kernelspec": {
   "display_name": "pytorch3",
   "language": "python",
   "name": "pytorch"
  },
  "language_info": {
   "codemirror_mode": {
    "name": "ipython",
    "version": 3
   },
   "file_extension": ".py",
   "mimetype": "text/x-python",
   "name": "python",
   "nbconvert_exporter": "python",
   "pygments_lexer": "ipython3",
   "version": "3.9.19"
  }
 },
 "nbformat": 4,
 "nbformat_minor": 2
}
