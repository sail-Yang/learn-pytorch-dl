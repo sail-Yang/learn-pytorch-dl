{
 "cells": [
  {
   "cell_type": "code",
   "execution_count": 7,
   "metadata": {},
   "outputs": [
    {
     "name": "stdout",
     "output_type": "stream",
     "text": [
      "tensor([[0.9203, 0.0238, 0.4650, 0.8131, 0.4727, 0.1956, 0.5542, 0.7496, 0.8125,\n",
      "         0.1979, 0.1056, 0.0906, 0.8445, 0.2159, 0.1264, 0.6718, 0.8577, 0.7936,\n",
      "         0.5812, 0.9574],\n",
      "        [0.1153, 0.5230, 0.4647, 0.1595, 0.9942, 0.9747, 0.4044, 0.6720, 0.3382,\n",
      "         0.7251, 0.4679, 0.4253, 0.2344, 0.6465, 0.3727, 0.4963, 0.3079, 0.7314,\n",
      "         0.3474, 0.6225]])\n"
     ]
    },
    {
     "data": {
      "text/plain": [
       "tensor([[ 0.0609, -0.0083,  0.0305,  0.0665, -0.2251,  0.0904,  0.2813,  0.1470,\n",
       "         -0.2698,  0.0417],\n",
       "        [ 0.0427, -0.0208, -0.1815, -0.0108, -0.1847, -0.0030,  0.0980,  0.0546,\n",
       "         -0.2780, -0.0364]], grad_fn=<AddmmBackward0>)"
      ]
     },
     "execution_count": 7,
     "metadata": {},
     "output_type": "execute_result"
    }
   ],
   "source": [
    "import torch\n",
    "from torch import nn\n",
    "from torch.nn import functional as F\n",
    "\n",
    "net = nn.Sequential(nn.Linear(20,256),\n",
    "                    nn.ReLU(),\n",
    "                    nn.Linear(256,10))\n",
    "\n",
    "X = torch.rand(2,20)\n",
    "print(X)\n",
    "# 相当于net.__call__(X)\n",
    "net(X)"
   ]
  },
  {
   "cell_type": "markdown",
   "metadata": {},
   "source": [
    "# 实现一个block"
   ]
  },
  {
   "cell_type": "code",
   "execution_count": 8,
   "metadata": {},
   "outputs": [],
   "source": [
    "class MLP(nn.Module):\n",
    "  # 用模型参数声明层，这里声明两个全连接层\n",
    "  def __init__(self):\n",
    "    super().__init__()\n",
    "    self.hidden = nn.Linear(20,256) #隐藏层\n",
    "    self.out = nn.Linear(256,10)    #输出层\n",
    "  \n",
    "  # 定义模型的前向传播\n",
    "  def forward(self,X):\n",
    "    # 使用nn.functional中的relu，这是函数版本\n",
    "    return self.out(F.relu(self.hidden(X)))\n",
    "    "
   ]
  },
  {
   "cell_type": "code",
   "execution_count": 9,
   "metadata": {},
   "outputs": [
    {
     "data": {
      "text/plain": [
       "tensor([[ 0.0914, -0.2605,  0.1241, -0.0729, -0.2081, -0.0296,  0.0875, -0.3039,\n",
       "          0.0111,  0.2279],\n",
       "        [-0.0261, -0.1974,  0.0953, -0.0284, -0.2870,  0.0208,  0.0910, -0.2241,\n",
       "         -0.0163,  0.2424]], grad_fn=<AddmmBackward0>)"
      ]
     },
     "execution_count": 9,
     "metadata": {},
     "output_type": "execute_result"
    }
   ],
   "source": [
    "net = MLP()\n",
    "net(X)"
   ]
  },
  {
   "cell_type": "markdown",
   "metadata": {},
   "source": [
    "## 构建Sequential"
   ]
  },
  {
   "cell_type": "code",
   "execution_count": 12,
   "metadata": {},
   "outputs": [],
   "source": [
    "class MySequential(nn.Module):\n",
    "  def __init__(self, *args):\n",
    "    super().__init__()\n",
    "    for idx , module in enumerate(args):\n",
    "      # 这里，module是Module子类的一个实例，保存在Module成员_modules中\n",
    "      self._modules[str(idx)] = module\n",
    "  \n",
    "  def forward(self, X):\n",
    "    # _modules类型为OrderedDict，保证了添加的顺序\n",
    "    for block in self._modules.values():\n",
    "      X = block(X)\n",
    "    return X"
   ]
  },
  {
   "cell_type": "code",
   "execution_count": 13,
   "metadata": {},
   "outputs": [
    {
     "data": {
      "text/plain": [
       "tensor([[-0.0512, -0.0184,  0.3491, -0.0808,  0.5053,  0.2147,  0.0901, -0.1932,\n",
       "          0.0550,  0.0875],\n",
       "        [ 0.0121, -0.0745,  0.2227,  0.0008,  0.2554,  0.1676,  0.1401, -0.2116,\n",
       "          0.0744,  0.1664]], grad_fn=<AddmmBackward0>)"
      ]
     },
     "execution_count": 13,
     "metadata": {},
     "output_type": "execute_result"
    }
   ],
   "source": [
    "net = MySequential(nn.Linear(20,256),nn.ReLU(),nn.Linear(256,10))\n",
    "net(X)"
   ]
  },
  {
   "cell_type": "markdown",
   "metadata": {},
   "source": [
    "## 更多灵活性"
   ]
  },
  {
   "cell_type": "markdown",
   "metadata": {},
   "source": [
    "在FixedHiddenMLP中，实现一个隐藏层，其权重(`self.rand_weight`)会在实例化时被随机初始化为常量，并不会被反向传播更新。\n",
    "\n",
    "在返回输出前，运行了一个循环，在L1范数>1的条件下，将输出向量/2，直到满足条件，所以可以把任意代码集成到神经网络的计算中。  \n",
    "\n",
    "各种块都可以任意组合。"
   ]
  },
  {
   "cell_type": "code",
   "execution_count": null,
   "metadata": {},
   "outputs": [],
   "source": [
    "class FixedHiddenMLP(nn.Module):\n",
    "  def __init__(self):\n",
    "    super().__init__()\n",
    "    # 不计算梯度的随机权重参数，在训练期间保持不变\n",
    "    self.rand_weight = torch.rand((20,20),requires_grad=False)\n",
    "    self.linear = nn.Linear(20,20)\n",
    "  \n",
    "  def forward(self,X):\n",
    "    X = self.linear(X)\n",
    "    #使用常量参数\n",
    "    X = F.relu(torch.mm(X,self.rand_weight)+1)\n",
    "    # 复用全连接层，共享参数\n",
    "    X = self.linear(X)\n",
    "    # 控制流\n",
    "    while X.abs().sum() >1:\n",
    "      X /= 2\n",
    "    return X.sum() "
   ]
  }
 ],
 "metadata": {
  "kernelspec": {
   "display_name": "pytorch3",
   "language": "python",
   "name": "pytorch"
  },
  "language_info": {
   "codemirror_mode": {
    "name": "ipython",
    "version": 3
   },
   "file_extension": ".py",
   "mimetype": "text/x-python",
   "name": "python",
   "nbconvert_exporter": "python",
   "pygments_lexer": "ipython3",
   "version": "3.9.19"
  }
 },
 "nbformat": 4,
 "nbformat_minor": 2
}
