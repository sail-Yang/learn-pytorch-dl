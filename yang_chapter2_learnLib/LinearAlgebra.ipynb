{
 "cells": [
  {
   "cell_type": "markdown",
   "id": "21e7418f-7990-44b7-a5c9-aa8af3fbda74",
   "metadata": {},
   "source": [
    "# 张量\n",
    "张量是矩阵的推广，实际上也就是n维数组"
   ]
  },
  {
   "cell_type": "code",
   "execution_count": 5,
   "id": "8a0487e2-3711-4964-8a65-55e2311ce38b",
   "metadata": {},
   "outputs": [
    {
     "data": {
      "text/plain": [
       "tensor([[[ 0,  1,  2,  3],\n",
       "         [ 4,  5,  6,  7],\n",
       "         [ 8,  9, 10, 11]],\n",
       "\n",
       "        [[12, 13, 14, 15],\n",
       "         [16, 17, 18, 19],\n",
       "         [20, 21, 22, 23]]])"
      ]
     },
     "execution_count": 5,
     "metadata": {},
     "output_type": "execute_result"
    }
   ],
   "source": [
    "import torch\n",
    "X = torch.arange(24).reshape(2,3,4)\n",
    "X"
   ]
  },
  {
   "cell_type": "code",
   "execution_count": 9,
   "id": "2acc871c-27ce-49ed-a348-1b77f6b8967b",
   "metadata": {},
   "outputs": [
    {
     "data": {
      "text/plain": [
       "(tensor([[ 0.,  1.,  2.,  3.],\n",
       "         [ 4.,  5.,  6.,  7.],\n",
       "         [ 8.,  9., 10., 11.],\n",
       "         [12., 13., 14., 15.],\n",
       "         [16., 17., 18., 19.]]),\n",
       " tensor([[ 0.,  2.,  4.,  6.],\n",
       "         [ 8., 10., 12., 14.],\n",
       "         [16., 18., 20., 22.],\n",
       "         [24., 26., 28., 30.],\n",
       "         [32., 34., 36., 38.]]),\n",
       " tensor([[  0.,   1.,   4.,   9.],\n",
       "         [ 16.,  25.,  36.,  49.],\n",
       "         [ 64.,  81., 100., 121.],\n",
       "         [144., 169., 196., 225.],\n",
       "         [256., 289., 324., 361.]]))"
      ]
     },
     "execution_count": 9,
     "metadata": {},
     "output_type": "execute_result"
    }
   ],
   "source": [
    "A = torch.arange(20,dtype=torch.float32).reshape(5,4)\n",
    "B = A.clone()\n",
    "# 元素乘法\n",
    "A,A+B,A*B"
   ]
  },
  {
   "cell_type": "markdown",
   "id": "94ae84ee-8fe5-4e5c-9ce1-9bbeabf8aebe",
   "metadata": {},
   "source": [
    "## 降维\n",
    "可以通过指定轴求和，来降低张量维度"
   ]
  },
  {
   "cell_type": "code",
   "execution_count": 15,
   "id": "136ccf45-c3f5-4d97-8f2a-c62ddfe3991f",
   "metadata": {},
   "outputs": [
    {
     "data": {
      "text/plain": [
       "(tensor([40., 45., 50., 55.]), torch.Size([4]))"
      ]
     },
     "execution_count": 15,
     "metadata": {},
     "output_type": "execute_result"
    }
   ],
   "source": [
    "A_sum_axis0 = A.sum(axis=0)\n",
    "A_sum_axis0, A_sum_axis0.shape"
   ]
  },
  {
   "cell_type": "markdown",
   "id": "93bdcaf7-1cc1-4414-8c0e-6f63a67c6883",
   "metadata": {},
   "source": [
    "## 点积、向量积和矩阵乘法"
   ]
  },
  {
   "cell_type": "code",
   "execution_count": 18,
   "id": "8951ecc2-0b9e-467e-bcd7-62cdb348a672",
   "metadata": {},
   "outputs": [
    {
     "data": {
      "text/plain": [
       "(tensor([1., 1., 1., 1.]), tensor([0., 1., 2., 3.]), tensor(6.))"
      ]
     },
     "execution_count": 18,
     "metadata": {},
     "output_type": "execute_result"
    }
   ],
   "source": [
    "# 点积\n",
    "x = torch.ones(4,dtype=torch.float32)\n",
    "y = torch.arange(4,dtype=torch.float32)\n",
    "x,y,torch.dot(x,y)"
   ]
  },
  {
   "cell_type": "code",
   "execution_count": 19,
   "id": "bdfeab7e-37c1-4737-98f8-666734e2d1c5",
   "metadata": {},
   "outputs": [
    {
     "data": {
      "text/plain": [
       "(torch.Size([5, 4]), torch.Size([4]), tensor([ 14,  38,  62,  86, 110]))"
      ]
     },
     "execution_count": 19,
     "metadata": {},
     "output_type": "execute_result"
    }
   ],
   "source": [
    "# 向量积Ax\n",
    "A = torch.arange(20).reshape((5,4))\n",
    "x = torch.arange(4)\n",
    "A.shape,x.shape,torch.mv(A,x)"
   ]
  },
  {
   "cell_type": "code",
   "execution_count": 22,
   "id": "4087540e-a6d5-4a76-837e-ae674031e6be",
   "metadata": {},
   "outputs": [
    {
     "data": {
      "text/plain": [
       "tensor([[ 70,  76,  82,  88,  94],\n",
       "        [190, 212, 234, 256, 278],\n",
       "        [310, 348, 386, 424, 462],\n",
       "        [430, 484, 538, 592, 646],\n",
       "        [550, 620, 690, 760, 830]])"
      ]
     },
     "execution_count": 22,
     "metadata": {},
     "output_type": "execute_result"
    }
   ],
   "source": [
    "# 矩阵乘法AB\n",
    "B = torch.arange(20).reshape(4,5)\n",
    "torch.mm(A,B)"
   ]
  },
  {
   "attachments": {},
   "cell_type": "markdown",
   "id": "1c7503d8-97c3-4beb-a3b4-98062a0a1893",
   "metadata": {},
   "source": [
    "# 范数\n",
    "向量范数是将向量映射到标量的函数，其常常满足几个性质：  \n",
    "1. 用常数因子缩放向量的所有元素，范数也会按照因子的绝对值缩放  \n",
    "$$f(αx)=|α|f(x)$$\n",
    "2. 三角不等式\n",
    "$$f(x+y)<=f(x)+f(y)$$\n",
    "3. 非负\n",
    "\n",
    "欧几里得距离是一个$L_2$范数，是向量元素平方和的平方根"
   ]
  },
  {
   "cell_type": "code",
   "execution_count": 26,
   "id": "9302f7df-adfb-4089-bb07-b3f86997160a",
   "metadata": {},
   "outputs": [
    {
     "data": {
      "text/plain": [
       "tensor(6.)"
      ]
     },
     "execution_count": 26,
     "metadata": {},
     "output_type": "execute_result"
    }
   ],
   "source": [
    "#欧几里得距离L2\n",
    "u = torch.tensor([3.0,-4.0])\n",
    "torch.norm(u)\n",
    "# L1,元素绝对值之和\n",
    "torch.abs(u).sum()\n",
    "# Frobenius范数,矩阵元素平方和的平方根\n",
    "torch.norm(torch.ones(4,9))"
   ]
  },
  {
   "cell_type": "markdown",
   "id": "3bb981ec-9092-4820-a53a-7af60395f07c",
   "metadata": {},
   "source": [
    "在优化问题中，目标函数往往被表达为范数"
   ]
  },
  {
   "cell_type": "code",
   "execution_count": 28,
   "id": "5832dbe4-beb1-4496-b2d3-d7816715098e",
   "metadata": {},
   "outputs": [
    {
     "data": {
      "text/plain": [
       "2"
      ]
     },
     "execution_count": 28,
     "metadata": {},
     "output_type": "execute_result"
    }
   ],
   "source": [
    "x = torch.arange(24).reshape((2,3,4))\n",
    "len(x)"
   ]
  },
  {
   "cell_type": "code",
   "execution_count": null,
   "id": "be4e8e36-7370-408d-b8db-b8dbc6c6cfa0",
   "metadata": {},
   "outputs": [],
   "source": []
  }
 ],
 "metadata": {
  "kernelspec": {
   "display_name": "Python 3 (ipykernel)",
   "language": "python",
   "name": "python3"
  },
  "language_info": {
   "codemirror_mode": {
    "name": "ipython",
    "version": 3
   },
   "file_extension": ".py",
   "mimetype": "text/x-python",
   "name": "python",
   "nbconvert_exporter": "python",
   "pygments_lexer": "ipython3",
   "version": "3.9.19"
  }
 },
 "nbformat": 4,
 "nbformat_minor": 5
}
