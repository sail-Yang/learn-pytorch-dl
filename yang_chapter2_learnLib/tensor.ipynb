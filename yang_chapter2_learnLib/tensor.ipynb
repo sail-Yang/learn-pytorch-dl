{
 "cells": [
  {
   "cell_type": "code",
   "execution_count": 3,
   "id": "afea158d-53ce-49d7-a2bf-f678b3efde3c",
   "metadata": {},
   "outputs": [],
   "source": [
    "import torch"
   ]
  },
  {
   "cell_type": "markdown",
   "id": "7c86789f-b159-4467-bddb-242eaad5685c",
   "metadata": {},
   "source": [
    "# 入门\n",
    "- 张量，**一维对应向量，二维对应矩阵**，在这以上没有特殊名称，在计算机上就是多维数组。"
   ]
  },
  {
   "cell_type": "code",
   "execution_count": 4,
   "id": "df448267-5608-475e-b1ec-b8c0d8743932",
   "metadata": {},
   "outputs": [
    {
     "data": {
      "text/plain": [
       "tensor([ 0,  1,  2,  3,  4,  5,  6,  7,  8,  9, 10, 11])"
      ]
     },
     "execution_count": 4,
     "metadata": {},
     "output_type": "execute_result"
    }
   ],
   "source": [
    "x = torch.arange(12) # 创建一个行向量\n",
    "x"
   ]
  },
  {
   "cell_type": "code",
   "execution_count": 5,
   "id": "9d969e49-69d2-4257-b45c-5999f7d91018",
   "metadata": {},
   "outputs": [
    {
     "name": "stdout",
     "output_type": "stream",
     "text": [
      "torch.Size([12])\n",
      "12\n"
     ]
    }
   ],
   "source": [
    "# shape属性查看张量每个轴的长度\n",
    "print(x.shape)\n",
    "# x.numel可以查看元素总数\n",
    "print(x.numel())"
   ]
  },
  {
   "cell_type": "code",
   "execution_count": 6,
   "id": "5b81e20c-d567-4e07-b25b-0ff1402bb316",
   "metadata": {},
   "outputs": [
    {
     "data": {
      "text/plain": [
       "tensor([[ 0,  1,  2,  3],\n",
       "        [ 4,  5,  6,  7],\n",
       "        [ 8,  9, 10, 11]])"
      ]
     },
     "execution_count": 6,
     "metadata": {},
     "output_type": "execute_result"
    }
   ],
   "source": [
    "# reshape可以在不改变元素的情况下，改变形状\n",
    "X = x.reshape(3,4)\n",
    "X\n",
    "# 可以用x.reshape(-1,4)自动计算出行的个数，即自动计算维度"
   ]
  },
  {
   "cell_type": "code",
   "execution_count": 7,
   "id": "2a18b60a-8496-4ba3-bd7b-8cd29b9edceb",
   "metadata": {},
   "outputs": [
    {
     "data": {
      "text/plain": [
       "tensor([[[1., 1., 1., 1.],\n",
       "         [1., 1., 1., 1.],\n",
       "         [1., 1., 1., 1.]],\n",
       "\n",
       "        [[1., 1., 1., 1.],\n",
       "         [1., 1., 1., 1.],\n",
       "         [1., 1., 1., 1.]]])"
      ]
     },
     "execution_count": 7,
     "metadata": {},
     "output_type": "execute_result"
    }
   ],
   "source": [
    "# 创建一个(2,3,4)的张量\n",
    "torch.zeros((2,3,4))\n",
    "torch.ones((2,3,4))"
   ]
  },
  {
   "cell_type": "code",
   "execution_count": 8,
   "id": "83a9fcdc-2b02-43dc-b7d3-a9e098611623",
   "metadata": {},
   "outputs": [
    {
     "data": {
      "text/plain": [
       "tensor([[-1.4990,  0.6843,  0.1124,  0.4364],\n",
       "        [-0.9174, -2.5735,  1.9596,  2.3481],\n",
       "        [ 0.8135,  1.9500,  0.0291, -0.9291]])"
      ]
     },
     "execution_count": 8,
     "metadata": {},
     "output_type": "execute_result"
    }
   ],
   "source": [
    "torch.tensor([[2,1,4,3],[1,2,3,4],[4,3,2,1]])\n",
    "torch.randn(3,4)"
   ]
  },
  {
   "cell_type": "markdown",
   "id": "d728508d-86db-4985-86e2-0d25d2c5479c",
   "metadata": {},
   "source": [
    "# 运算符"
   ]
  },
  {
   "cell_type": "code",
   "execution_count": 9,
   "id": "13e169b3-65a0-4c03-adbd-b7d930c4e44a",
   "metadata": {},
   "outputs": [
    {
     "data": {
      "text/plain": [
       "tensor([2.7183e+00, 7.3891e+00, 5.4598e+01, 2.9810e+03])"
      ]
     },
     "execution_count": 9,
     "metadata": {},
     "output_type": "execute_result"
    }
   ],
   "source": [
    "x = torch.tensor([1.0, 2, 4 ,8])\n",
    "torch.exp(x)"
   ]
  },
  {
   "cell_type": "markdown",
   "id": "9344be4b-e714-4ced-aeee-9d26e478f0f3",
   "metadata": {},
   "source": [
    "将多个tensor连结起来,通过指定轴来进行连接\n",
    "- dim = 0，就是按照形状的第一个元素来连接\n",
    "- dim = 1，就是按照形状的第二个元素来连接"
   ]
  },
  {
   "cell_type": "code",
   "execution_count": 11,
   "id": "40e547ed-3cf2-4909-9e21-f3992360db46",
   "metadata": {},
   "outputs": [
    {
     "data": {
      "text/plain": [
       "(tensor([[ 0.,  1.,  2.,  3.],\n",
       "         [ 4.,  5.,  6.,  7.],\n",
       "         [ 8.,  9., 10., 11.],\n",
       "         [ 2.,  1.,  4.,  3.],\n",
       "         [ 1.,  2.,  3.,  4.],\n",
       "         [ 4.,  3.,  2.,  1.]]),\n",
       " tensor([[ 0.,  1.,  2.,  3.,  2.,  1.,  4.,  3.],\n",
       "         [ 4.,  5.,  6.,  7.,  1.,  2.,  3.,  4.],\n",
       "         [ 8.,  9., 10., 11.,  4.,  3.,  2.,  1.]]))"
      ]
     },
     "execution_count": 11,
     "metadata": {},
     "output_type": "execute_result"
    }
   ],
   "source": [
    "X = torch.arange(12,dtype=torch.float32).reshape((3,4))\n",
    "Y = torch.tensor([[2.0,1,4,3],[1,2,3,4],[4,3,2,1]])\n",
    "torch.cat((X,Y),dim=0), torch.cat((X,Y),dim=1)"
   ]
  },
  {
   "cell_type": "markdown",
   "id": "18752674-2548-42c0-ae95-91b4b6ad7e69",
   "metadata": {},
   "source": [
    "# 广播\n",
    "即使形状不同的张量，也可以进行元素的运算操作，会自动可扩展数组，使之具有相同的形状。"
   ]
  },
  {
   "cell_type": "code",
   "execution_count": 13,
   "id": "1d7ea485-80b8-42ef-b1dc-87ed235b6521",
   "metadata": {},
   "outputs": [
    {
     "data": {
      "text/plain": [
       "(tensor([[0],\n",
       "         [1],\n",
       "         [2]]),\n",
       " tensor([[0, 1]]))"
      ]
     },
     "execution_count": 13,
     "metadata": {},
     "output_type": "execute_result"
    }
   ],
   "source": [
    "a = torch.arange(3).reshape((3,1))\n",
    "b = torch.arange(2).reshape((1,2))\n",
    "a,b"
   ]
  },
  {
   "cell_type": "code",
   "execution_count": 14,
   "id": "e7f2388d-d3bb-413d-b6ca-3c522ff245a1",
   "metadata": {},
   "outputs": [
    {
     "data": {
      "text/plain": [
       "tensor([[0, 1],\n",
       "        [1, 2],\n",
       "        [2, 3]])"
      ]
     },
     "execution_count": 14,
     "metadata": {},
     "output_type": "execute_result"
    }
   ],
   "source": [
    "a+b"
   ]
  },
  {
   "cell_type": "markdown",
   "id": "f5ac2e66-c579-4723-85cd-5a1e2ae8746e",
   "metadata": {},
   "source": [
    "# 索引和切片"
   ]
  },
  {
   "cell_type": "code",
   "execution_count": 18,
   "id": "9d18dacb-d4bb-4f1e-9f60-84db963ddfb8",
   "metadata": {},
   "outputs": [
    {
     "data": {
      "text/plain": [
       "tensor([[ 0,  1,  2,  3],\n",
       "        [ 4,  5,  6,  7],\n",
       "        [ 8,  9, 10, 11]])"
      ]
     },
     "execution_count": 18,
     "metadata": {},
     "output_type": "execute_result"
    }
   ],
   "source": [
    "X = torch.arange(12).reshape((3,4))\n",
    "X"
   ]
  },
  {
   "cell_type": "code",
   "execution_count": 20,
   "id": "65cb174d-bd06-4dee-940c-23887a93683b",
   "metadata": {},
   "outputs": [
    {
     "data": {
      "text/plain": [
       "(tensor([ 8,  9, 10, 11]),\n",
       " tensor([[ 4,  5,  6,  7],\n",
       "         [ 8,  9, 10, 11]]))"
      ]
     },
     "execution_count": 20,
     "metadata": {},
     "output_type": "execute_result"
    }
   ],
   "source": [
    "X[-1], X[1:3]"
   ]
  },
  {
   "cell_type": "code",
   "execution_count": 22,
   "id": "5e5751b0-7b6a-4326-8964-60680a54e601",
   "metadata": {},
   "outputs": [
    {
     "data": {
      "text/plain": [
       "(tensor([ 7, 11]),\n",
       " tensor([[ 4,  5,  6,  7],\n",
       "         [ 8,  9, 10, 11]]))"
      ]
     },
     "execution_count": 22,
     "metadata": {},
     "output_type": "execute_result"
    }
   ],
   "source": [
    "X[1:3,-1], X[1:3,:]"
   ]
  },
  {
   "cell_type": "code",
   "execution_count": null,
   "id": "26c8a4ca-8cd6-421a-960c-ebaa6a0ec821",
   "metadata": {},
   "outputs": [],
   "source": []
  }
 ],
 "metadata": {
  "kernelspec": {
   "display_name": "pytorch3",
   "language": "python",
   "name": "pytorch"
  },
  "language_info": {
   "codemirror_mode": {
    "name": "ipython",
    "version": 3
   },
   "file_extension": ".py",
   "mimetype": "text/x-python",
   "name": "python",
   "nbconvert_exporter": "python",
   "pygments_lexer": "ipython3",
   "version": "3.9.19"
  }
 },
 "nbformat": 4,
 "nbformat_minor": 5
}
